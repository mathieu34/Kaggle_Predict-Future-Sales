{
  "nbformat": 4,
  "nbformat_minor": 0,
  "metadata": {
    "colab": {
      "name": "final_project1.ipynb",
      "provenance": [],
      "collapsed_sections": [],
      "machine_shape": "hm",
      "include_colab_link": true
    },
    "kernelspec": {
      "name": "python3",
      "display_name": "Python 3"
    },
    "widgets": {
      "application/vnd.jupyter.widget-state+json": {
        "98e883ff6e204807bc3c6a6ad0947b2e": {
          "model_module": "@jupyter-widgets/controls",
          "model_name": "HBoxModel",
          "state": {
            "_view_name": "HBoxView",
            "_dom_classes": [],
            "_model_name": "HBoxModel",
            "_view_module": "@jupyter-widgets/controls",
            "_model_module_version": "1.5.0",
            "_view_count": null,
            "_view_module_version": "1.5.0",
            "box_style": "",
            "layout": "IPY_MODEL_c765128a08c0491dbf8f0900c3ba3480",
            "_model_module": "@jupyter-widgets/controls",
            "children": [
              "IPY_MODEL_251d660ebf414ac0adbde5e456df58ed",
              "IPY_MODEL_1beb10c248ca401e9dfe7baf999fe8de"
            ]
          }
        },
        "c765128a08c0491dbf8f0900c3ba3480": {
          "model_module": "@jupyter-widgets/base",
          "model_name": "LayoutModel",
          "state": {
            "_view_name": "LayoutView",
            "grid_template_rows": null,
            "right": null,
            "justify_content": null,
            "_view_module": "@jupyter-widgets/base",
            "overflow": null,
            "_model_module_version": "1.2.0",
            "_view_count": null,
            "flex_flow": null,
            "width": null,
            "min_width": null,
            "border": null,
            "align_items": null,
            "bottom": null,
            "_model_module": "@jupyter-widgets/base",
            "top": null,
            "grid_column": null,
            "overflow_y": null,
            "overflow_x": null,
            "grid_auto_flow": null,
            "grid_area": null,
            "grid_template_columns": null,
            "flex": null,
            "_model_name": "LayoutModel",
            "justify_items": null,
            "grid_row": null,
            "max_height": null,
            "align_content": null,
            "visibility": null,
            "align_self": null,
            "height": null,
            "min_height": null,
            "padding": null,
            "grid_auto_rows": null,
            "grid_gap": null,
            "max_width": null,
            "order": null,
            "_view_module_version": "1.2.0",
            "grid_template_areas": null,
            "object_position": null,
            "object_fit": null,
            "grid_auto_columns": null,
            "margin": null,
            "display": null,
            "left": null
          }
        },
        "251d660ebf414ac0adbde5e456df58ed": {
          "model_module": "@jupyter-widgets/controls",
          "model_name": "FloatProgressModel",
          "state": {
            "_view_name": "ProgressView",
            "style": "IPY_MODEL_1031ec73e1b84e5cbc26a8628735bc76",
            "_dom_classes": [],
            "description": "100%",
            "_model_name": "FloatProgressModel",
            "bar_style": "success",
            "max": 6,
            "_view_module": "@jupyter-widgets/controls",
            "_model_module_version": "1.5.0",
            "value": 6,
            "_view_count": null,
            "_view_module_version": "1.5.0",
            "orientation": "horizontal",
            "min": 0,
            "description_tooltip": null,
            "_model_module": "@jupyter-widgets/controls",
            "layout": "IPY_MODEL_8bcc62467d32420880fba66119d0de2b"
          }
        },
        "1beb10c248ca401e9dfe7baf999fe8de": {
          "model_module": "@jupyter-widgets/controls",
          "model_name": "HTMLModel",
          "state": {
            "_view_name": "HTMLView",
            "style": "IPY_MODEL_5941278595094925ab06d8c17d681a49",
            "_dom_classes": [],
            "description": "",
            "_model_name": "HTMLModel",
            "placeholder": "​",
            "_view_module": "@jupyter-widgets/controls",
            "_model_module_version": "1.5.0",
            "value": " 6/6 [00:46&lt;00:00,  7.73s/it]",
            "_view_count": null,
            "_view_module_version": "1.5.0",
            "description_tooltip": null,
            "_model_module": "@jupyter-widgets/controls",
            "layout": "IPY_MODEL_835dd34c4bbf431ab332dec343ed4033"
          }
        },
        "1031ec73e1b84e5cbc26a8628735bc76": {
          "model_module": "@jupyter-widgets/controls",
          "model_name": "ProgressStyleModel",
          "state": {
            "_view_name": "StyleView",
            "_model_name": "ProgressStyleModel",
            "description_width": "initial",
            "_view_module": "@jupyter-widgets/base",
            "_model_module_version": "1.5.0",
            "_view_count": null,
            "_view_module_version": "1.2.0",
            "bar_color": null,
            "_model_module": "@jupyter-widgets/controls"
          }
        },
        "8bcc62467d32420880fba66119d0de2b": {
          "model_module": "@jupyter-widgets/base",
          "model_name": "LayoutModel",
          "state": {
            "_view_name": "LayoutView",
            "grid_template_rows": null,
            "right": null,
            "justify_content": null,
            "_view_module": "@jupyter-widgets/base",
            "overflow": null,
            "_model_module_version": "1.2.0",
            "_view_count": null,
            "flex_flow": null,
            "width": null,
            "min_width": null,
            "border": null,
            "align_items": null,
            "bottom": null,
            "_model_module": "@jupyter-widgets/base",
            "top": null,
            "grid_column": null,
            "overflow_y": null,
            "overflow_x": null,
            "grid_auto_flow": null,
            "grid_area": null,
            "grid_template_columns": null,
            "flex": null,
            "_model_name": "LayoutModel",
            "justify_items": null,
            "grid_row": null,
            "max_height": null,
            "align_content": null,
            "visibility": null,
            "align_self": null,
            "height": null,
            "min_height": null,
            "padding": null,
            "grid_auto_rows": null,
            "grid_gap": null,
            "max_width": null,
            "order": null,
            "_view_module_version": "1.2.0",
            "grid_template_areas": null,
            "object_position": null,
            "object_fit": null,
            "grid_auto_columns": null,
            "margin": null,
            "display": null,
            "left": null
          }
        },
        "5941278595094925ab06d8c17d681a49": {
          "model_module": "@jupyter-widgets/controls",
          "model_name": "DescriptionStyleModel",
          "state": {
            "_view_name": "StyleView",
            "_model_name": "DescriptionStyleModel",
            "description_width": "",
            "_view_module": "@jupyter-widgets/base",
            "_model_module_version": "1.5.0",
            "_view_count": null,
            "_view_module_version": "1.2.0",
            "_model_module": "@jupyter-widgets/controls"
          }
        },
        "835dd34c4bbf431ab332dec343ed4033": {
          "model_module": "@jupyter-widgets/base",
          "model_name": "LayoutModel",
          "state": {
            "_view_name": "LayoutView",
            "grid_template_rows": null,
            "right": null,
            "justify_content": null,
            "_view_module": "@jupyter-widgets/base",
            "overflow": null,
            "_model_module_version": "1.2.0",
            "_view_count": null,
            "flex_flow": null,
            "width": null,
            "min_width": null,
            "border": null,
            "align_items": null,
            "bottom": null,
            "_model_module": "@jupyter-widgets/base",
            "top": null,
            "grid_column": null,
            "overflow_y": null,
            "overflow_x": null,
            "grid_auto_flow": null,
            "grid_area": null,
            "grid_template_columns": null,
            "flex": null,
            "_model_name": "LayoutModel",
            "justify_items": null,
            "grid_row": null,
            "max_height": null,
            "align_content": null,
            "visibility": null,
            "align_self": null,
            "height": null,
            "min_height": null,
            "padding": null,
            "grid_auto_rows": null,
            "grid_gap": null,
            "max_width": null,
            "order": null,
            "_view_module_version": "1.2.0",
            "grid_template_areas": null,
            "object_position": null,
            "object_fit": null,
            "grid_auto_columns": null,
            "margin": null,
            "display": null,
            "left": null
          }
        },
        "2827324e49d146959324731f5565df8c": {
          "model_module": "@jupyter-widgets/controls",
          "model_name": "HBoxModel",
          "state": {
            "_view_name": "HBoxView",
            "_dom_classes": [],
            "_model_name": "HBoxModel",
            "_view_module": "@jupyter-widgets/controls",
            "_model_module_version": "1.5.0",
            "_view_count": null,
            "_view_module_version": "1.5.0",
            "box_style": "",
            "layout": "IPY_MODEL_939c08f463eb481b9bdead57fb3779ef",
            "_model_module": "@jupyter-widgets/controls",
            "children": [
              "IPY_MODEL_69b7785126ae4aef87fe9ab3e5a4fc94",
              "IPY_MODEL_fc4e970d52d34c1b9adbbb4b151650de"
            ]
          }
        },
        "939c08f463eb481b9bdead57fb3779ef": {
          "model_module": "@jupyter-widgets/base",
          "model_name": "LayoutModel",
          "state": {
            "_view_name": "LayoutView",
            "grid_template_rows": null,
            "right": null,
            "justify_content": null,
            "_view_module": "@jupyter-widgets/base",
            "overflow": null,
            "_model_module_version": "1.2.0",
            "_view_count": null,
            "flex_flow": null,
            "width": null,
            "min_width": null,
            "border": null,
            "align_items": null,
            "bottom": null,
            "_model_module": "@jupyter-widgets/base",
            "top": null,
            "grid_column": null,
            "overflow_y": null,
            "overflow_x": null,
            "grid_auto_flow": null,
            "grid_area": null,
            "grid_template_columns": null,
            "flex": null,
            "_model_name": "LayoutModel",
            "justify_items": null,
            "grid_row": null,
            "max_height": null,
            "align_content": null,
            "visibility": null,
            "align_self": null,
            "height": null,
            "min_height": null,
            "padding": null,
            "grid_auto_rows": null,
            "grid_gap": null,
            "max_width": null,
            "order": null,
            "_view_module_version": "1.2.0",
            "grid_template_areas": null,
            "object_position": null,
            "object_fit": null,
            "grid_auto_columns": null,
            "margin": null,
            "display": null,
            "left": null
          }
        },
        "69b7785126ae4aef87fe9ab3e5a4fc94": {
          "model_module": "@jupyter-widgets/controls",
          "model_name": "FloatProgressModel",
          "state": {
            "_view_name": "ProgressView",
            "style": "IPY_MODEL_e56c2550b28d4fec9032b5070ce446c3",
            "_dom_classes": [],
            "description": "100%",
            "_model_name": "FloatProgressModel",
            "bar_style": "success",
            "max": 6,
            "_view_module": "@jupyter-widgets/controls",
            "_model_module_version": "1.5.0",
            "value": 6,
            "_view_count": null,
            "_view_module_version": "1.5.0",
            "orientation": "horizontal",
            "min": 0,
            "description_tooltip": null,
            "_model_module": "@jupyter-widgets/controls",
            "layout": "IPY_MODEL_408a70461ec24e0cb5298f772e82b6a2"
          }
        },
        "fc4e970d52d34c1b9adbbb4b151650de": {
          "model_module": "@jupyter-widgets/controls",
          "model_name": "HTMLModel",
          "state": {
            "_view_name": "HTMLView",
            "style": "IPY_MODEL_3e456dd1f61c460ea3a60b2b999ee1a4",
            "_dom_classes": [],
            "description": "",
            "_model_name": "HTMLModel",
            "placeholder": "​",
            "_view_module": "@jupyter-widgets/controls",
            "_model_module_version": "1.5.0",
            "value": " 6/6 [00:45&lt;00:00,  7.61s/it]",
            "_view_count": null,
            "_view_module_version": "1.5.0",
            "description_tooltip": null,
            "_model_module": "@jupyter-widgets/controls",
            "layout": "IPY_MODEL_c21dab87171c4ae0ad24591281c96b91"
          }
        },
        "e56c2550b28d4fec9032b5070ce446c3": {
          "model_module": "@jupyter-widgets/controls",
          "model_name": "ProgressStyleModel",
          "state": {
            "_view_name": "StyleView",
            "_model_name": "ProgressStyleModel",
            "description_width": "initial",
            "_view_module": "@jupyter-widgets/base",
            "_model_module_version": "1.5.0",
            "_view_count": null,
            "_view_module_version": "1.2.0",
            "bar_color": null,
            "_model_module": "@jupyter-widgets/controls"
          }
        },
        "408a70461ec24e0cb5298f772e82b6a2": {
          "model_module": "@jupyter-widgets/base",
          "model_name": "LayoutModel",
          "state": {
            "_view_name": "LayoutView",
            "grid_template_rows": null,
            "right": null,
            "justify_content": null,
            "_view_module": "@jupyter-widgets/base",
            "overflow": null,
            "_model_module_version": "1.2.0",
            "_view_count": null,
            "flex_flow": null,
            "width": null,
            "min_width": null,
            "border": null,
            "align_items": null,
            "bottom": null,
            "_model_module": "@jupyter-widgets/base",
            "top": null,
            "grid_column": null,
            "overflow_y": null,
            "overflow_x": null,
            "grid_auto_flow": null,
            "grid_area": null,
            "grid_template_columns": null,
            "flex": null,
            "_model_name": "LayoutModel",
            "justify_items": null,
            "grid_row": null,
            "max_height": null,
            "align_content": null,
            "visibility": null,
            "align_self": null,
            "height": null,
            "min_height": null,
            "padding": null,
            "grid_auto_rows": null,
            "grid_gap": null,
            "max_width": null,
            "order": null,
            "_view_module_version": "1.2.0",
            "grid_template_areas": null,
            "object_position": null,
            "object_fit": null,
            "grid_auto_columns": null,
            "margin": null,
            "display": null,
            "left": null
          }
        },
        "3e456dd1f61c460ea3a60b2b999ee1a4": {
          "model_module": "@jupyter-widgets/controls",
          "model_name": "DescriptionStyleModel",
          "state": {
            "_view_name": "StyleView",
            "_model_name": "DescriptionStyleModel",
            "description_width": "",
            "_view_module": "@jupyter-widgets/base",
            "_model_module_version": "1.5.0",
            "_view_count": null,
            "_view_module_version": "1.2.0",
            "_model_module": "@jupyter-widgets/controls"
          }
        },
        "c21dab87171c4ae0ad24591281c96b91": {
          "model_module": "@jupyter-widgets/base",
          "model_name": "LayoutModel",
          "state": {
            "_view_name": "LayoutView",
            "grid_template_rows": null,
            "right": null,
            "justify_content": null,
            "_view_module": "@jupyter-widgets/base",
            "overflow": null,
            "_model_module_version": "1.2.0",
            "_view_count": null,
            "flex_flow": null,
            "width": null,
            "min_width": null,
            "border": null,
            "align_items": null,
            "bottom": null,
            "_model_module": "@jupyter-widgets/base",
            "top": null,
            "grid_column": null,
            "overflow_y": null,
            "overflow_x": null,
            "grid_auto_flow": null,
            "grid_area": null,
            "grid_template_columns": null,
            "flex": null,
            "_model_name": "LayoutModel",
            "justify_items": null,
            "grid_row": null,
            "max_height": null,
            "align_content": null,
            "visibility": null,
            "align_self": null,
            "height": null,
            "min_height": null,
            "padding": null,
            "grid_auto_rows": null,
            "grid_gap": null,
            "max_width": null,
            "order": null,
            "_view_module_version": "1.2.0",
            "grid_template_areas": null,
            "object_position": null,
            "object_fit": null,
            "grid_auto_columns": null,
            "margin": null,
            "display": null,
            "left": null
          }
        }
      }
    }
  },
  "cells": [
    {
      "cell_type": "markdown",
      "metadata": {
        "id": "view-in-github",
        "colab_type": "text"
      },
      "source": [
        "<a href=\"https://colab.research.google.com/github/mathieu34/Kaggle_Predict-Future-Sales/blob/main/final_project.ipynb\" target=\"_parent\"><img src=\"https://colab.research.google.com/assets/colab-badge.svg\" alt=\"Open In Colab\"/></a>"
      ]
    },
    {
      "cell_type": "code",
      "metadata": {
        "id": "tAb77yZ9fzMG"
      },
      "source": [
        "!pip install -U -q PyDrive "
      ],
      "execution_count": null,
      "outputs": []
    },
    {
      "cell_type": "code",
      "metadata": {
        "id": "pafL7Li0jyXW"
      },
      "source": [
        "from pydrive.auth import GoogleAuth \n",
        "from pydrive.drive import GoogleDrive \n",
        "from google.colab import auth \n",
        "from oauth2client.client import GoogleCredentials \n",
        "  \n",
        "  \n",
        "# Authenticate and create the PyDrive client. \n",
        "auth.authenticate_user() \n",
        "gauth = GoogleAuth() \n",
        "gauth.credentials = GoogleCredentials.get_application_default() \n",
        "drive = GoogleDrive(gauth)"
      ],
      "execution_count": null,
      "outputs": []
    },
    {
      "cell_type": "code",
      "metadata": {
        "id": "WwX9Qt3mWkOi"
      },
      "source": [
        "link = \"https://drive.google.com/drive/folders/16wg-vm82LYtgg-_08QIP0FKGwC5T0moy?usp=sharing\"\n",
        "\n",
        "# to get the id part of the file \n",
        "id = link.split(\"/\")[-2] \n",
        "  \n",
        "downloaded = drive.CreateFile({'id':\"1Qzvih4qgh-9ekKfSHD9kpeeSOvl-Kim9\"})  \n",
        "downloaded = drive.CreateFile({'id':\"1Yq8mNPA88axRynj2SoXcoq8RR60LWRTI\"}) \n",
        "downloaded = drive.CreateFile({'id':\"1RA20ApkK0IVqK14RSd5xxhb7I_GaO6W_\"}) \n",
        "downloaded = drive.CreateFile({'id':\"1Wni3GiUJgKufvg0i1Jwvu-keWgsyv2e7\"}) \n",
        "downloaded = drive.CreateFile({'id':\"1z1wwC6lwMsF9dFwCWah3K1DuGlxOrTlN\"}) \n",
        "downloaded = drive.CreateFile({'id':\"16K-Q2_FmKCzJCkcbKisWH3wPUvPlA1n7\"}) \n",
        "downloaded.GetContentFile('items.csv')\n",
        "downloaded.GetContentFile('item_categories.csv')  \n",
        "downloaded.GetContentFile('shops.csv')\n",
        "downloaded.GetContentFile('sales_train.csv.gz')\n",
        "downloaded.GetContentFile('sample_submission.csv.gz')\n",
        "downloaded.GetContentFile('test.csv.gz')"
      ],
      "execution_count": null,
      "outputs": []
    },
    {
      "cell_type": "code",
      "metadata": {
        "colab": {
          "base_uri": "https://localhost:8080/",
          "height": 424
        },
        "id": "e0qGaBAhWrSI",
        "outputId": "037aaa47-1fb4-498b-804c-25d96f6338c9"
      },
      "source": [
        "import pandas as pd \n",
        "import numpy as np\n",
        "\n",
        "link = \"https://drive.google.com/drive/folders/16wg-vm82LYtgg-_08QIP0FKGwC5T0moy?usp=sharing\"\n",
        "\n",
        "# to get the id part of the file \n",
        "id = link.split(\"/\")[-2] \n",
        "  \n",
        "downloaded = drive.CreateFile({'id':\"1z1wwC6lwMsF9dFwCWah3K1DuGlxOrTlN\"})\n",
        "downloaded.GetContentFile('sample_submission.csv.gz')\n",
        "pd.read_csv('sample_submission.csv.gz') \n"
      ],
      "execution_count": null,
      "outputs": [
        {
          "output_type": "execute_result",
          "data": {
            "text/html": [
              "<div>\n",
              "<style scoped>\n",
              "    .dataframe tbody tr th:only-of-type {\n",
              "        vertical-align: middle;\n",
              "    }\n",
              "\n",
              "    .dataframe tbody tr th {\n",
              "        vertical-align: top;\n",
              "    }\n",
              "\n",
              "    .dataframe thead th {\n",
              "        text-align: right;\n",
              "    }\n",
              "</style>\n",
              "<table border=\"1\" class=\"dataframe\">\n",
              "  <thead>\n",
              "    <tr style=\"text-align: right;\">\n",
              "      <th></th>\n",
              "      <th>ID</th>\n",
              "      <th>item_cnt_month</th>\n",
              "    </tr>\n",
              "  </thead>\n",
              "  <tbody>\n",
              "    <tr>\n",
              "      <th>0</th>\n",
              "      <td>0</td>\n",
              "      <td>0.5</td>\n",
              "    </tr>\n",
              "    <tr>\n",
              "      <th>1</th>\n",
              "      <td>1</td>\n",
              "      <td>0.5</td>\n",
              "    </tr>\n",
              "    <tr>\n",
              "      <th>2</th>\n",
              "      <td>2</td>\n",
              "      <td>0.5</td>\n",
              "    </tr>\n",
              "    <tr>\n",
              "      <th>3</th>\n",
              "      <td>3</td>\n",
              "      <td>0.5</td>\n",
              "    </tr>\n",
              "    <tr>\n",
              "      <th>4</th>\n",
              "      <td>4</td>\n",
              "      <td>0.5</td>\n",
              "    </tr>\n",
              "    <tr>\n",
              "      <th>...</th>\n",
              "      <td>...</td>\n",
              "      <td>...</td>\n",
              "    </tr>\n",
              "    <tr>\n",
              "      <th>214195</th>\n",
              "      <td>214195</td>\n",
              "      <td>0.5</td>\n",
              "    </tr>\n",
              "    <tr>\n",
              "      <th>214196</th>\n",
              "      <td>214196</td>\n",
              "      <td>0.5</td>\n",
              "    </tr>\n",
              "    <tr>\n",
              "      <th>214197</th>\n",
              "      <td>214197</td>\n",
              "      <td>0.5</td>\n",
              "    </tr>\n",
              "    <tr>\n",
              "      <th>214198</th>\n",
              "      <td>214198</td>\n",
              "      <td>0.5</td>\n",
              "    </tr>\n",
              "    <tr>\n",
              "      <th>214199</th>\n",
              "      <td>214199</td>\n",
              "      <td>0.5</td>\n",
              "    </tr>\n",
              "  </tbody>\n",
              "</table>\n",
              "<p>214200 rows × 2 columns</p>\n",
              "</div>"
            ],
            "text/plain": [
              "            ID  item_cnt_month\n",
              "0            0             0.5\n",
              "1            1             0.5\n",
              "2            2             0.5\n",
              "3            3             0.5\n",
              "4            4             0.5\n",
              "...        ...             ...\n",
              "214195  214195             0.5\n",
              "214196  214196             0.5\n",
              "214197  214197             0.5\n",
              "214198  214198             0.5\n",
              "214199  214199             0.5\n",
              "\n",
              "[214200 rows x 2 columns]"
            ]
          },
          "metadata": {
            "tags": []
          },
          "execution_count": 86
        }
      ]
    },
    {
      "cell_type": "markdown",
      "metadata": {
        "id": "Uj-Ro9cMWxXg"
      },
      "source": [
        "## Data leackage ? "
      ]
    },
    {
      "cell_type": "markdown",
      "metadata": {
        "id": "PSjDYrs1XQNy"
      },
      "source": [
        "## Creation of the tuple shop/item ID on the train dataset"
      ]
    },
    {
      "cell_type": "code",
      "metadata": {
        "colab": {
          "base_uri": "https://localhost:8080/",
          "height": 424
        },
        "id": "SfLXqkmIXNSE",
        "outputId": "68b28369-a6f9-4024-bc7c-5f8ecd471a41"
      },
      "source": [
        "train['tuple_id'] = train.shop_id.astype(str) + '_' + train.item_id.astype(str)\n",
        "train"
      ],
      "execution_count": null,
      "outputs": [
        {
          "output_type": "execute_result",
          "data": {
            "text/html": [
              "<div>\n",
              "<style scoped>\n",
              "    .dataframe tbody tr th:only-of-type {\n",
              "        vertical-align: middle;\n",
              "    }\n",
              "\n",
              "    .dataframe tbody tr th {\n",
              "        vertical-align: top;\n",
              "    }\n",
              "\n",
              "    .dataframe thead th {\n",
              "        text-align: right;\n",
              "    }\n",
              "</style>\n",
              "<table border=\"1\" class=\"dataframe\">\n",
              "  <thead>\n",
              "    <tr style=\"text-align: right;\">\n",
              "      <th></th>\n",
              "      <th>date</th>\n",
              "      <th>date_block_num</th>\n",
              "      <th>shop_id</th>\n",
              "      <th>item_id</th>\n",
              "      <th>item_price</th>\n",
              "      <th>item_cnt_day</th>\n",
              "      <th>tuple_id</th>\n",
              "    </tr>\n",
              "  </thead>\n",
              "  <tbody>\n",
              "    <tr>\n",
              "      <th>0</th>\n",
              "      <td>02.01.2013</td>\n",
              "      <td>0</td>\n",
              "      <td>59</td>\n",
              "      <td>22154</td>\n",
              "      <td>999.00</td>\n",
              "      <td>1.0</td>\n",
              "      <td>59_22154</td>\n",
              "    </tr>\n",
              "    <tr>\n",
              "      <th>1</th>\n",
              "      <td>03.01.2013</td>\n",
              "      <td>0</td>\n",
              "      <td>25</td>\n",
              "      <td>2552</td>\n",
              "      <td>899.00</td>\n",
              "      <td>1.0</td>\n",
              "      <td>25_2552</td>\n",
              "    </tr>\n",
              "    <tr>\n",
              "      <th>2</th>\n",
              "      <td>05.01.2013</td>\n",
              "      <td>0</td>\n",
              "      <td>25</td>\n",
              "      <td>2552</td>\n",
              "      <td>899.00</td>\n",
              "      <td>-1.0</td>\n",
              "      <td>25_2552</td>\n",
              "    </tr>\n",
              "    <tr>\n",
              "      <th>3</th>\n",
              "      <td>06.01.2013</td>\n",
              "      <td>0</td>\n",
              "      <td>25</td>\n",
              "      <td>2554</td>\n",
              "      <td>1709.05</td>\n",
              "      <td>1.0</td>\n",
              "      <td>25_2554</td>\n",
              "    </tr>\n",
              "    <tr>\n",
              "      <th>4</th>\n",
              "      <td>15.01.2013</td>\n",
              "      <td>0</td>\n",
              "      <td>25</td>\n",
              "      <td>2555</td>\n",
              "      <td>1099.00</td>\n",
              "      <td>1.0</td>\n",
              "      <td>25_2555</td>\n",
              "    </tr>\n",
              "    <tr>\n",
              "      <th>...</th>\n",
              "      <td>...</td>\n",
              "      <td>...</td>\n",
              "      <td>...</td>\n",
              "      <td>...</td>\n",
              "      <td>...</td>\n",
              "      <td>...</td>\n",
              "      <td>...</td>\n",
              "    </tr>\n",
              "    <tr>\n",
              "      <th>2935844</th>\n",
              "      <td>10.10.2015</td>\n",
              "      <td>33</td>\n",
              "      <td>25</td>\n",
              "      <td>7409</td>\n",
              "      <td>299.00</td>\n",
              "      <td>1.0</td>\n",
              "      <td>25_7409</td>\n",
              "    </tr>\n",
              "    <tr>\n",
              "      <th>2935845</th>\n",
              "      <td>09.10.2015</td>\n",
              "      <td>33</td>\n",
              "      <td>25</td>\n",
              "      <td>7460</td>\n",
              "      <td>299.00</td>\n",
              "      <td>1.0</td>\n",
              "      <td>25_7460</td>\n",
              "    </tr>\n",
              "    <tr>\n",
              "      <th>2935846</th>\n",
              "      <td>14.10.2015</td>\n",
              "      <td>33</td>\n",
              "      <td>25</td>\n",
              "      <td>7459</td>\n",
              "      <td>349.00</td>\n",
              "      <td>1.0</td>\n",
              "      <td>25_7459</td>\n",
              "    </tr>\n",
              "    <tr>\n",
              "      <th>2935847</th>\n",
              "      <td>22.10.2015</td>\n",
              "      <td>33</td>\n",
              "      <td>25</td>\n",
              "      <td>7440</td>\n",
              "      <td>299.00</td>\n",
              "      <td>1.0</td>\n",
              "      <td>25_7440</td>\n",
              "    </tr>\n",
              "    <tr>\n",
              "      <th>2935848</th>\n",
              "      <td>03.10.2015</td>\n",
              "      <td>33</td>\n",
              "      <td>25</td>\n",
              "      <td>7460</td>\n",
              "      <td>299.00</td>\n",
              "      <td>1.0</td>\n",
              "      <td>25_7460</td>\n",
              "    </tr>\n",
              "  </tbody>\n",
              "</table>\n",
              "<p>2935849 rows × 7 columns</p>\n",
              "</div>"
            ],
            "text/plain": [
              "               date  date_block_num  ...  item_cnt_day  tuple_id\n",
              "0        02.01.2013               0  ...           1.0  59_22154\n",
              "1        03.01.2013               0  ...           1.0   25_2552\n",
              "2        05.01.2013               0  ...          -1.0   25_2552\n",
              "3        06.01.2013               0  ...           1.0   25_2554\n",
              "4        15.01.2013               0  ...           1.0   25_2555\n",
              "...             ...             ...  ...           ...       ...\n",
              "2935844  10.10.2015              33  ...           1.0   25_7409\n",
              "2935845  09.10.2015              33  ...           1.0   25_7460\n",
              "2935846  14.10.2015              33  ...           1.0   25_7459\n",
              "2935847  22.10.2015              33  ...           1.0   25_7440\n",
              "2935848  03.10.2015              33  ...           1.0   25_7460\n",
              "\n",
              "[2935849 rows x 7 columns]"
            ]
          },
          "metadata": {
            "tags": []
          },
          "execution_count": 104
        }
      ]
    },
    {
      "cell_type": "code",
      "metadata": {
        "colab": {
          "base_uri": "https://localhost:8080/",
          "height": 424
        },
        "id": "nVk5atHyXXvu",
        "outputId": "38bd5f01-28b5-44ee-fb0e-37f6a32bdfad"
      },
      "source": [
        "test['tuple_id'] = test.shop_id.astype(str) + '_' + test.item_id.astype(str)\n",
        "test "
      ],
      "execution_count": null,
      "outputs": [
        {
          "output_type": "execute_result",
          "data": {
            "text/html": [
              "<div>\n",
              "<style scoped>\n",
              "    .dataframe tbody tr th:only-of-type {\n",
              "        vertical-align: middle;\n",
              "    }\n",
              "\n",
              "    .dataframe tbody tr th {\n",
              "        vertical-align: top;\n",
              "    }\n",
              "\n",
              "    .dataframe thead th {\n",
              "        text-align: right;\n",
              "    }\n",
              "</style>\n",
              "<table border=\"1\" class=\"dataframe\">\n",
              "  <thead>\n",
              "    <tr style=\"text-align: right;\">\n",
              "      <th></th>\n",
              "      <th>ID</th>\n",
              "      <th>shop_id</th>\n",
              "      <th>item_id</th>\n",
              "      <th>item_category_id_x</th>\n",
              "      <th>date_block_num</th>\n",
              "      <th>item_category_id_y</th>\n",
              "      <th>tuple_id</th>\n",
              "    </tr>\n",
              "  </thead>\n",
              "  <tbody>\n",
              "    <tr>\n",
              "      <th>0</th>\n",
              "      <td>0</td>\n",
              "      <td>5</td>\n",
              "      <td>5037</td>\n",
              "      <td>19</td>\n",
              "      <td>34</td>\n",
              "      <td>19</td>\n",
              "      <td>5_5037</td>\n",
              "    </tr>\n",
              "    <tr>\n",
              "      <th>1</th>\n",
              "      <td>1</td>\n",
              "      <td>5</td>\n",
              "      <td>5320</td>\n",
              "      <td>55</td>\n",
              "      <td>34</td>\n",
              "      <td>55</td>\n",
              "      <td>5_5320</td>\n",
              "    </tr>\n",
              "    <tr>\n",
              "      <th>2</th>\n",
              "      <td>2</td>\n",
              "      <td>5</td>\n",
              "      <td>5233</td>\n",
              "      <td>19</td>\n",
              "      <td>34</td>\n",
              "      <td>19</td>\n",
              "      <td>5_5233</td>\n",
              "    </tr>\n",
              "    <tr>\n",
              "      <th>3</th>\n",
              "      <td>3</td>\n",
              "      <td>5</td>\n",
              "      <td>5232</td>\n",
              "      <td>23</td>\n",
              "      <td>34</td>\n",
              "      <td>23</td>\n",
              "      <td>5_5232</td>\n",
              "    </tr>\n",
              "    <tr>\n",
              "      <th>4</th>\n",
              "      <td>4</td>\n",
              "      <td>5</td>\n",
              "      <td>5268</td>\n",
              "      <td>20</td>\n",
              "      <td>34</td>\n",
              "      <td>20</td>\n",
              "      <td>5_5268</td>\n",
              "    </tr>\n",
              "    <tr>\n",
              "      <th>...</th>\n",
              "      <td>...</td>\n",
              "      <td>...</td>\n",
              "      <td>...</td>\n",
              "      <td>...</td>\n",
              "      <td>...</td>\n",
              "      <td>...</td>\n",
              "      <td>...</td>\n",
              "    </tr>\n",
              "    <tr>\n",
              "      <th>214195</th>\n",
              "      <td>214195</td>\n",
              "      <td>45</td>\n",
              "      <td>18454</td>\n",
              "      <td>55</td>\n",
              "      <td>34</td>\n",
              "      <td>55</td>\n",
              "      <td>45_18454</td>\n",
              "    </tr>\n",
              "    <tr>\n",
              "      <th>214196</th>\n",
              "      <td>214196</td>\n",
              "      <td>45</td>\n",
              "      <td>16188</td>\n",
              "      <td>64</td>\n",
              "      <td>34</td>\n",
              "      <td>64</td>\n",
              "      <td>45_16188</td>\n",
              "    </tr>\n",
              "    <tr>\n",
              "      <th>214197</th>\n",
              "      <td>214197</td>\n",
              "      <td>45</td>\n",
              "      <td>15757</td>\n",
              "      <td>55</td>\n",
              "      <td>34</td>\n",
              "      <td>55</td>\n",
              "      <td>45_15757</td>\n",
              "    </tr>\n",
              "    <tr>\n",
              "      <th>214198</th>\n",
              "      <td>214198</td>\n",
              "      <td>45</td>\n",
              "      <td>19648</td>\n",
              "      <td>40</td>\n",
              "      <td>34</td>\n",
              "      <td>40</td>\n",
              "      <td>45_19648</td>\n",
              "    </tr>\n",
              "    <tr>\n",
              "      <th>214199</th>\n",
              "      <td>214199</td>\n",
              "      <td>45</td>\n",
              "      <td>969</td>\n",
              "      <td>37</td>\n",
              "      <td>34</td>\n",
              "      <td>37</td>\n",
              "      <td>45_969</td>\n",
              "    </tr>\n",
              "  </tbody>\n",
              "</table>\n",
              "<p>214200 rows × 7 columns</p>\n",
              "</div>"
            ],
            "text/plain": [
              "            ID  shop_id  item_id  ...  date_block_num  item_category_id_y  tuple_id\n",
              "0            0        5     5037  ...              34                  19    5_5037\n",
              "1            1        5     5320  ...              34                  55    5_5320\n",
              "2            2        5     5233  ...              34                  19    5_5233\n",
              "3            3        5     5232  ...              34                  23    5_5232\n",
              "4            4        5     5268  ...              34                  20    5_5268\n",
              "...        ...      ...      ...  ...             ...                 ...       ...\n",
              "214195  214195       45    18454  ...              34                  55  45_18454\n",
              "214196  214196       45    16188  ...              34                  64  45_16188\n",
              "214197  214197       45    15757  ...              34                  55  45_15757\n",
              "214198  214198       45    19648  ...              34                  40  45_19648\n",
              "214199  214199       45      969  ...              34                  37    45_969\n",
              "\n",
              "[214200 rows x 7 columns]"
            ]
          },
          "metadata": {
            "tags": []
          },
          "execution_count": 27
        }
      ]
    },
    {
      "cell_type": "code",
      "metadata": {
        "colab": {
          "base_uri": "https://localhost:8080/",
          "height": 424
        },
        "id": "vKxFJhI2Xpoh",
        "outputId": "8d79ba2f-4194-4452-9393-3182535bc8ad"
      },
      "source": [
        "train1 = pd.merge(train, test[[\"ID\",'tuple_id']], on=['tuple_id'], how='inner')\n",
        "train1.sort_values(\"ID\")"
      ],
      "execution_count": null,
      "outputs": [
        {
          "output_type": "execute_result",
          "data": {
            "text/html": [
              "<div>\n",
              "<style scoped>\n",
              "    .dataframe tbody tr th:only-of-type {\n",
              "        vertical-align: middle;\n",
              "    }\n",
              "\n",
              "    .dataframe tbody tr th {\n",
              "        vertical-align: top;\n",
              "    }\n",
              "\n",
              "    .dataframe thead th {\n",
              "        text-align: right;\n",
              "    }\n",
              "</style>\n",
              "<table border=\"1\" class=\"dataframe\">\n",
              "  <thead>\n",
              "    <tr style=\"text-align: right;\">\n",
              "      <th></th>\n",
              "      <th>date</th>\n",
              "      <th>date_block_num</th>\n",
              "      <th>shop_id</th>\n",
              "      <th>item_id</th>\n",
              "      <th>item_price</th>\n",
              "      <th>item_cnt_day</th>\n",
              "      <th>tuple_id</th>\n",
              "      <th>ID</th>\n",
              "    </tr>\n",
              "  </thead>\n",
              "  <tbody>\n",
              "    <tr>\n",
              "      <th>896448</th>\n",
              "      <td>05.09.2015</td>\n",
              "      <td>32</td>\n",
              "      <td>5</td>\n",
              "      <td>5037</td>\n",
              "      <td>749.5</td>\n",
              "      <td>1.0</td>\n",
              "      <td>5_5037</td>\n",
              "      <td>0</td>\n",
              "    </tr>\n",
              "    <tr>\n",
              "      <th>896447</th>\n",
              "      <td>31.08.2015</td>\n",
              "      <td>31</td>\n",
              "      <td>5</td>\n",
              "      <td>5037</td>\n",
              "      <td>749.0</td>\n",
              "      <td>1.0</td>\n",
              "      <td>5_5037</td>\n",
              "      <td>0</td>\n",
              "    </tr>\n",
              "    <tr>\n",
              "      <th>896446</th>\n",
              "      <td>20.08.2015</td>\n",
              "      <td>31</td>\n",
              "      <td>5</td>\n",
              "      <td>5037</td>\n",
              "      <td>749.5</td>\n",
              "      <td>1.0</td>\n",
              "      <td>5_5037</td>\n",
              "      <td>0</td>\n",
              "    </tr>\n",
              "    <tr>\n",
              "      <th>896445</th>\n",
              "      <td>14.08.2015</td>\n",
              "      <td>31</td>\n",
              "      <td>5</td>\n",
              "      <td>5037</td>\n",
              "      <td>1499.0</td>\n",
              "      <td>1.0</td>\n",
              "      <td>5_5037</td>\n",
              "      <td>0</td>\n",
              "    </tr>\n",
              "    <tr>\n",
              "      <th>896444</th>\n",
              "      <td>05.07.2015</td>\n",
              "      <td>30</td>\n",
              "      <td>5</td>\n",
              "      <td>5037</td>\n",
              "      <td>1499.0</td>\n",
              "      <td>1.0</td>\n",
              "      <td>5_5037</td>\n",
              "      <td>0</td>\n",
              "    </tr>\n",
              "    <tr>\n",
              "      <th>...</th>\n",
              "      <td>...</td>\n",
              "      <td>...</td>\n",
              "      <td>...</td>\n",
              "      <td>...</td>\n",
              "      <td>...</td>\n",
              "      <td>...</td>\n",
              "      <td>...</td>\n",
              "      <td>...</td>\n",
              "    </tr>\n",
              "    <tr>\n",
              "      <th>234047</th>\n",
              "      <td>08.11.2013</td>\n",
              "      <td>10</td>\n",
              "      <td>45</td>\n",
              "      <td>15757</td>\n",
              "      <td>199.0</td>\n",
              "      <td>1.0</td>\n",
              "      <td>45_15757</td>\n",
              "      <td>214197</td>\n",
              "    </tr>\n",
              "    <tr>\n",
              "      <th>846090</th>\n",
              "      <td>11.07.2014</td>\n",
              "      <td>18</td>\n",
              "      <td>45</td>\n",
              "      <td>969</td>\n",
              "      <td>549.0</td>\n",
              "      <td>1.0</td>\n",
              "      <td>45_969</td>\n",
              "      <td>214199</td>\n",
              "    </tr>\n",
              "    <tr>\n",
              "      <th>846091</th>\n",
              "      <td>09.08.2014</td>\n",
              "      <td>19</td>\n",
              "      <td>45</td>\n",
              "      <td>969</td>\n",
              "      <td>549.0</td>\n",
              "      <td>1.0</td>\n",
              "      <td>45_969</td>\n",
              "      <td>214199</td>\n",
              "    </tr>\n",
              "    <tr>\n",
              "      <th>846088</th>\n",
              "      <td>22.06.2014</td>\n",
              "      <td>17</td>\n",
              "      <td>45</td>\n",
              "      <td>969</td>\n",
              "      <td>549.0</td>\n",
              "      <td>1.0</td>\n",
              "      <td>45_969</td>\n",
              "      <td>214199</td>\n",
              "    </tr>\n",
              "    <tr>\n",
              "      <th>846089</th>\n",
              "      <td>28.06.2014</td>\n",
              "      <td>17</td>\n",
              "      <td>45</td>\n",
              "      <td>969</td>\n",
              "      <td>549.0</td>\n",
              "      <td>2.0</td>\n",
              "      <td>45_969</td>\n",
              "      <td>214199</td>\n",
              "    </tr>\n",
              "  </tbody>\n",
              "</table>\n",
              "<p>1224439 rows × 8 columns</p>\n",
              "</div>"
            ],
            "text/plain": [
              "              date  date_block_num  shop_id  ...  item_cnt_day  tuple_id      ID\n",
              "896448  05.09.2015              32        5  ...           1.0    5_5037       0\n",
              "896447  31.08.2015              31        5  ...           1.0    5_5037       0\n",
              "896446  20.08.2015              31        5  ...           1.0    5_5037       0\n",
              "896445  14.08.2015              31        5  ...           1.0    5_5037       0\n",
              "896444  05.07.2015              30        5  ...           1.0    5_5037       0\n",
              "...            ...             ...      ...  ...           ...       ...     ...\n",
              "234047  08.11.2013              10       45  ...           1.0  45_15757  214197\n",
              "846090  11.07.2014              18       45  ...           1.0    45_969  214199\n",
              "846091  09.08.2014              19       45  ...           1.0    45_969  214199\n",
              "846088  22.06.2014              17       45  ...           1.0    45_969  214199\n",
              "846089  28.06.2014              17       45  ...           2.0    45_969  214199\n",
              "\n",
              "[1224439 rows x 8 columns]"
            ]
          },
          "metadata": {
            "tags": []
          },
          "execution_count": 46
        }
      ]
    },
    {
      "cell_type": "code",
      "metadata": {
        "colab": {
          "base_uri": "https://localhost:8080/"
        },
        "id": "cEBnJZcVXsdY",
        "outputId": "4a0ff30c-f691-48dd-c90a-5ef8a3dde16f"
      },
      "source": [
        "train1[\"ID\"].nunique()\n",
        "# we can see that there is less unique ID than in the test dataset. "
      ],
      "execution_count": null,
      "outputs": [
        {
          "output_type": "execute_result",
          "data": {
            "text/plain": [
              "111404"
            ]
          },
          "metadata": {
            "tags": []
          },
          "execution_count": 47
        }
      ]
    },
    {
      "cell_type": "markdown",
      "metadata": {
        "id": "wJ2Ozn6DX2Dd"
      },
      "source": [
        "## All Datasets "
      ]
    },
    {
      "cell_type": "code",
      "metadata": {
        "id": "TnlMr-ggW-ZF"
      },
      "source": [
        "import pandas as pd \n",
        "import numpy as np\n",
        "\n",
        "downloaded = drive.CreateFile({'id':\"1Wni3GiUJgKufvg0i1Jwvu-keWgsyv2e7\"})\n",
        "downloaded.GetContentFile('sales_train.csv.gz')\n",
        "sales = pd.read_csv('sales_train.csv.gz') \n",
        " \n",
        "\n",
        "# Aggregate Data to montly level is  done \n",
        "# Unique ID is not provide. "
      ],
      "execution_count": null,
      "outputs": []
    },
    {
      "cell_type": "code",
      "metadata": {
        "id": "uFKNoIGdWzLD"
      },
      "source": [
        "downloaded = drive.CreateFile({'id':\"16K-Q2_FmKCzJCkcbKisWH3wPUvPlA1n7\"})\n",
        "downloaded.GetContentFile('test.csv.gz')\n",
        "test = pd.read_csv('test.csv.gz') "
      ],
      "execution_count": null,
      "outputs": []
    },
    {
      "cell_type": "code",
      "metadata": {
        "id": "0GFpSaeqXxM8"
      },
      "source": [
        "downloaded = drive.CreateFile({'id':\"1Qzvih4qgh-9ekKfSHD9kpeeSOvl-Kim9\"})\n",
        "downloaded.GetContentFile('items.csv')\n",
        "\n",
        "items = pd.read_csv(\"items.csv\")\n"
      ],
      "execution_count": null,
      "outputs": []
    },
    {
      "cell_type": "code",
      "metadata": {
        "colab": {
          "base_uri": "https://localhost:8080/"
        },
        "id": "TY_wrR_2X39u",
        "outputId": "a2d17654-99ef-4362-ab0f-cb6c472fa053"
      },
      "source": [
        "downloaded = drive.CreateFile({'id':\"1Yq8mNPA88axRynj2SoXcoq8RR60LWRTI\"})\n",
        "downloaded.GetContentFile('item_categories.csv')\n",
        "item_categories = pd.read_csv(\"item_categories.csv\")\n",
        "\n",
        "downloaded = drive.CreateFile({'id':\"1RA20ApkK0IVqK14RSd5xxhb7I_GaO6W_\"})\n",
        "downloaded.GetContentFile('shops.csv')\n",
        "shops = pd.read_csv(\"shops.csv\")\n",
        "items = pd.read_csv(\"items.csv\")\n",
        "\n",
        "print(items.head(3))\n",
        "print(item_categories.head(3))\n",
        "print(shops.head(3))\n",
        "print(sales.head(3))"
      ],
      "execution_count": null,
      "outputs": [
        {
          "output_type": "stream",
          "text": [
            "                                           item_name  item_id  item_category_id\n",
            "0          ! ВО ВЛАСТИ НАВАЖДЕНИЯ (ПЛАСТ.)         D        0                40\n",
            "1  !ABBYY FineReader 12 Professional Edition Full...        1                76\n",
            "2      ***В ЛУЧАХ СЛАВЫ   (UNV)                    D        2                40\n",
            "        item_category_name  item_category_id\n",
            "0  PC - Гарнитуры/Наушники                 0\n",
            "1         Аксессуары - PS2                 1\n",
            "2         Аксессуары - PS3                 2\n",
            "                       shop_name  shop_id\n",
            "0  !Якутск Орджоникидзе, 56 фран        0\n",
            "1  !Якутск ТЦ \"Центральный\" фран        1\n",
            "2               Адыгея ТЦ \"Мега\"        2\n",
            "         date  date_block_num  shop_id  item_id  item_price  item_cnt_day\n",
            "0  02.01.2013               0       59    22154       999.0           1.0\n",
            "1  03.01.2013               0       25     2552       899.0           1.0\n",
            "2  05.01.2013               0       25     2552       899.0          -1.0\n"
          ],
          "name": "stdout"
        }
      ]
    },
    {
      "cell_type": "markdown",
      "metadata": {
        "id": "jvALPmAOJQDY"
      },
      "source": [
        "# EDA\n",
        "## https://www.kaggle.com/rhodiumbeng/predict-future-sales-eda"
      ]
    },
    {
      "cell_type": "code",
      "metadata": {
        "colab": {
          "base_uri": "https://localhost:8080/"
        },
        "id": "6Ud51dqrJSVI",
        "outputId": "e18bb594-1a52-4b28-8aa9-70052348bb4f"
      },
      "source": [
        "# Examine the size & shape of the data\n",
        "print(sales.shape, items.shape, item_categories.shape, shops.shape, test.shape)"
      ],
      "execution_count": null,
      "outputs": [
        {
          "output_type": "stream",
          "text": [
            "(2935849, 6) (22170, 3) (84, 2) (60, 2) (214200, 6)\n"
          ],
          "name": "stdout"
        }
      ]
    },
    {
      "cell_type": "code",
      "metadata": {
        "colab": {
          "base_uri": "https://localhost:8080/",
          "height": 319
        },
        "id": "Kyne4QDxJakA",
        "outputId": "23575cd4-cc52-4954-b3d7-1a129a33b092"
      },
      "source": [
        "import seaborn as sns\n",
        "\n",
        "transactions = sales.groupby('date_block_num')['date'].count()\n",
        "sns.set()\n",
        "transactions.plot.line(title='Number of transactions by month', color='gray')\n",
        "\n",
        "\n",
        "#Overall, the total number of transactions by month for all shops is on a downward trend.\n",
        "#The two peaks correspond to the two year-end periods (Dec 2013 & Dec 2014) in the sales dataset."
      ],
      "execution_count": null,
      "outputs": [
        {
          "output_type": "execute_result",
          "data": {
            "text/plain": [
              "<matplotlib.axes._subplots.AxesSubplot at 0x7f135f5c3b38>"
            ]
          },
          "metadata": {
            "tags": []
          },
          "execution_count": 334
        },
        {
          "output_type": "display_data",
          "data": {
            "image/png": "[encoded data removed]",
            "text/plain": [
              "<Figure size 432x288 with 1 Axes>"
            ]
          },
          "metadata": {
            "tags": []
          }
        }
      ]
    },
    {
      "cell_type": "code",
      "metadata": {
        "colab": {
          "base_uri": "https://localhost:8080/",
          "height": 373
        },
        "id": "ORnmpMQKKaMV",
        "outputId": "dcdf3183-fc10-47ed-f514-175b64bd53c3"
      },
      "source": [
        "import matplotlib.pyplot as plt\n",
        "\n",
        "shop_counts = sales.groupby('date_block_num')['shop_id'].nunique()\n",
        "item_counts = sales.groupby('date_block_num')['item_id'].nunique()\n",
        "\n",
        "\n",
        "fig, axarr = plt.subplots(1, 2, figsize=(12, 5))\n",
        "shop_counts.plot.line(ax=axarr[0], color='gray')\n",
        "item_counts.plot.line(ax=axarr[1], color='gray')\n",
        "axarr[0].set_title('Number of shops with transactions')\n",
        "axarr[1].set_title('Number of items with transactions')\n"
      ],
      "execution_count": null,
      "outputs": [
        {
          "output_type": "execute_result",
          "data": {
            "text/plain": [
              "Text(0.5, 1.0, 'Number of items with transactions')"
            ]
          },
          "metadata": {
            "tags": []
          },
          "execution_count": 332
        },
        {
          "output_type": "display_data",
          "data": {
            "image/png": "[encoded data removed]",
            "text/plain": [
              "<Figure size 864x360 with 2 Axes>"
            ]
          },
          "metadata": {
            "tags": []
          }
        }
      ]
    },
    {
      "cell_type": "code",
      "metadata": {
        "colab": {
          "base_uri": "https://localhost:8080/"
        },
        "id": "A8biF-J8K_n4",
        "outputId": "04bfdcdb-fcab-4d64-ae8a-3bc91566f3ad"
      },
      "source": [
        "print(sales['item_id'].nunique(), sales['shop_id'].nunique())\n",
        "\n",
        "#For the shops, the number corresponds to the total number of shops in the shops dataset. \n",
        "#However, for the items, the number is less than the total number of items (22,170) in the items dataset.\n",
        "#Not all the shops has got transactions every month, and on the average only a third and less of the items have transactions every month."
      ],
      "execution_count": null,
      "outputs": [
        {
          "output_type": "stream",
          "text": [
            "21807 60\n"
          ],
          "name": "stdout"
        }
      ]
    },
    {
      "cell_type": "code",
      "metadata": {
        "colab": {
          "base_uri": "https://localhost:8080/"
        },
        "id": "ONKpxVQwLozS",
        "outputId": "368d8bbd-74de-4164-cc75-f1a702468972"
      },
      "source": [
        "test_shops = test['shop_id'].unique()\n",
        "print(len(test_shops))\n",
        "print(np.sort(test_shops))\n",
        "\n",
        "# 12 shops do not feature in the test data. "
      ],
      "execution_count": null,
      "outputs": [
        {
          "output_type": "stream",
          "text": [
            "42\n",
            "[ 2  3  4  5  6  7 10 12 14 15 16 18 19 21 22 24 25 26 28 31 34 35 36 37\n",
            " 38 39 41 42 44 45 46 47 48 49 50 52 53 55 56 57 58 59]\n"
          ],
          "name": "stdout"
        }
      ]
    },
    {
      "cell_type": "code",
      "metadata": {
        "colab": {
          "base_uri": "https://localhost:8080/"
        },
        "id": "ydxjoUnaLxK6",
        "outputId": "efc23a7d-3df7-4149-b354-16c90355ac6c"
      },
      "source": [
        "test_items = test['item_id'].unique()\n",
        "print(len(test_items))\n",
        "\n"
      ],
      "execution_count": null,
      "outputs": [
        {
          "output_type": "stream",
          "text": [
            "5100\n"
          ],
          "name": "stdout"
        }
      ]
    },
    {
      "cell_type": "code",
      "metadata": {
        "colab": {
          "base_uri": "https://localhost:8080/"
        },
        "id": "jA0SLndwMWOE",
        "outputId": "ec2c236e-2c59-4d77-e546-6528d5e5c1d8"
      },
      "source": [
        "check = sales[np.isin(sales['item_id'], test_items, invert=True)]\n",
        "print(len(check['item_id'].unique()))\n",
        "print(np.sort(check['item_id'].unique()))\n",
        "\n",
        "# 17,070 items in the sales data are not in the test data."
      ],
      "execution_count": null,
      "outputs": [
        {
          "output_type": "stream",
          "text": [
            "17070\n",
            "[    0     1     2 ... 22165 22168 22169]\n"
          ],
          "name": "stdout"
        }
      ]
    },
    {
      "cell_type": "markdown",
      "metadata": {
        "id": "5gu-7tqqUlWo"
      },
      "source": [
        "## Data leackage \n",
        "### https://www.kaggle.com/dimitreoliveira/model-stacking-feature-engineering-and-eda"
      ]
    },
    {
      "cell_type": "code",
      "metadata": {
        "colab": {
          "base_uri": "https://localhost:8080/"
        },
        "id": "Hv3w0PFmUo4Q",
        "outputId": "e4f94b36-319f-4c71-881c-ebdfad2b8867"
      },
      "source": [
        " ## I'll only be using only the \"shop_id\" and \"item_id\" that appear on the test set.\n",
        "\n",
        "test_shop_ids = test['shop_id'].unique()\n",
        "test_item_ids = test['item_id'].unique()\n",
        "# Only shops that exist in test set.\n",
        "train = sales[sales['shop_id'].isin(test_shop_ids)]\n",
        "# Only items that exist in test set.\n",
        "train = train[sales['item_id'].isin(test_item_ids)]\n",
        "len(train)"
      ],
      "execution_count": null,
      "outputs": [
        {
          "output_type": "stream",
          "text": [
            "/usr/local/lib/python3.6/dist-packages/ipykernel_launcher.py:8: UserWarning: Boolean Series key will be reindexed to match DataFrame index.\n",
            "  \n"
          ],
          "name": "stderr"
        },
        {
          "output_type": "execute_result",
          "data": {
            "text/plain": [
              "1224439"
            ]
          },
          "metadata": {
            "tags": []
          },
          "execution_count": 10
        }
      ]
    },
    {
      "cell_type": "code",
      "metadata": {
        "id": "eJhtKyXtkaSi"
      },
      "source": [
        "train = train.merge(items[['item_id', 'item_category_id']], on = ['item_id'], how = 'left')\n",
        "test = test.merge(items[['item_id', 'item_category_id']], on = ['item_id'], how = 'left')"
      ],
      "execution_count": null,
      "outputs": []
    },
    {
      "cell_type": "code",
      "metadata": {
        "colab": {
          "base_uri": "https://localhost:8080/"
        },
        "id": "XOHUrtD2h2E3",
        "outputId": "8e2b0f63-8c32-4ff3-db98-57e86e566505"
      },
      "source": [
        "print(test[\"item_id\"].nunique())\n",
        "print(items[\"item_id\"].nunique())\n",
        "print(test[\"shop_id\"].nunique())\n",
        "print(len(test))"
      ],
      "execution_count": null,
      "outputs": [
        {
          "output_type": "stream",
          "text": [
            "5100\n",
            "22170\n",
            "42\n",
            "214200\n"
          ],
          "name": "stdout"
        }
      ]
    },
    {
      "cell_type": "code",
      "metadata": {
        "colab": {
          "base_uri": "https://localhost:8080/"
        },
        "id": "PR-o_12kh4SH",
        "outputId": "50b3f37f-e495-477f-c316-72647b16a44f"
      },
      "source": [
        "print(5100*42)\n",
        "# exactly the number of rows in the test dataset. In the test, almost of the pairs have probably 0 in their prediction. "
      ],
      "execution_count": null,
      "outputs": [
        {
          "output_type": "stream",
          "text": [
            "214200\n"
          ],
          "name": "stdout"
        }
      ]
    },
    {
      "cell_type": "markdown",
      "metadata": {
        "id": "LYonbWoHBGEK"
      },
      "source": [
        "## Data cleaning"
      ]
    },
    {
      "cell_type": "code",
      "metadata": {
        "id": "7iLP4FGIBCva"
      },
      "source": [
        "train = train.query('item_price > 0') # keep only rows when item_price>0."
      ],
      "execution_count": null,
      "outputs": []
    },
    {
      "cell_type": "markdown",
      "metadata": {
        "id": "IZgx7ehgYBu-"
      },
      "source": [
        "### EDA : aggregate on train dataset"
      ]
    },
    {
      "cell_type": "code",
      "metadata": {
        "id": "iuq_ZC0SYGV9"
      },
      "source": [
        "import numpy as np\n",
        "from itertools import product\n",
        "import gc\n",
        "from tqdm import tqdm_notebook\n",
        "import lightgbm as lgb\n",
        "from sklearn.linear_model import LinearRegression\n",
        "from sklearn.metrics import r2_score\n",
        "\n",
        "def downcast_dtypes(df):\n",
        "    '''\n",
        "        Changes column types in the dataframe: \n",
        "                \n",
        "                `float64` type to `float32`\n",
        "                `int64`   type to `int32`\n",
        "    '''\n",
        "    \n",
        "    # Select columns to downcast\n",
        "    float_cols = [c for c in df if df[c].dtype == \"float64\"]\n",
        "    int_cols =   [c for c in df if df[c].dtype == \"int64\"]\n",
        "    \n",
        "    # Downcast\n",
        "    df[float_cols] = df[float_cols].astype(np.float32)\n",
        "    df[int_cols]   = df[int_cols].astype(np.int32)\n",
        "    \n",
        "    return df"
      ],
      "execution_count": null,
      "outputs": []
    },
    {
      "cell_type": "code",
      "metadata": {
        "id": "s2cPkgMqYHJw"
      },
      "source": [
        "# from itertools import product\n",
        "\n",
        "# # Agregate datas\n",
        "\n",
        "# # For every month we create a grid from all shops/items combinations from that month. \n",
        "# # In effect, to mimic the real behavior of the data we have to create the missing records from the loaded dataset\n",
        "grid = []\n",
        "\n",
        "for block_num in train['date_block_num'].unique():\n",
        "  cur_shops = train[train['date_block_num']==block_num]['shop_id'].unique()\n",
        "  cur_items = train[train['date_block_num']==block_num]['item_id'].unique()\n",
        "  grid.append(np.array(list(product(*[cur_shops, cur_items, [block_num]])),dtype='int32'))\n",
        "\n",
        "# #turn the grid into pandas dataframe\n",
        "\n",
        "index_cols = ['shop_id', 'item_id', 'date_block_num']\n",
        "grid = pd.DataFrame(np.vstack(grid), columns = index_cols,dtype=np.int32)\n",
        "train['item_cnt_day'] = train['item_cnt_day'].clip(0,20)  #.clip(0,20)\n",
        "\n",
        "gb_cnt = train.groupby(index_cols)['item_cnt_day'].agg(['sum']).reset_index().rename(columns = {'sum': 'item_cnt_month'})\n",
        "gb_cnt['item_cnt_month'] = gb_cnt['item_cnt_month'].clip(0,20).astype(np.int)  #.clip(0,20).astype(np.int)\n",
        "\n",
        "# #join aggregated data to the grid\n",
        "\n",
        "all_data = pd.merge(grid,gb_cnt,how='left',on=index_cols).fillna(0)\n",
        "all_data['item_cnt_month'] = all_data['item_cnt_month'].astype(int)\n",
        "all_data = downcast_dtypes(all_data)\n"
      ],
      "execution_count": null,
      "outputs": []
    },
    {
      "cell_type": "code",
      "metadata": {
        "id": "XIcw368D2tOy"
      },
      "source": [
        "# Same as above but with shop-month aggregates\n",
        "gb = train.groupby(['shop_id', 'item_id', 'date_block_num']).item_price.agg(['mean']).rename(columns={'mean': 'shop_item_price'}).reset_index()\n",
        "all_data = pd.merge(all_data, gb, how='left', on=['shop_id', 'item_id', 'date_block_num']).fillna(0)\n",
        "\n",
        "\n",
        "all_data = downcast_dtypes(all_data)\n",
        "del gb \n",
        "gc.collect();"
      ],
      "execution_count": null,
      "outputs": []
    },
    {
      "cell_type": "code",
      "metadata": {
        "id": "JBo90ewDRDO3"
      },
      "source": [
        "# Same as above but with item-shop-month aggregates\n",
        "gb = train.groupby(['item_id', 'date_block_num']).item_price.agg(['mean']).rename(columns={'mean': 'it_price'}).reset_index()\n",
        "all_data = pd.merge(all_data, gb, how='left', on=['item_id', 'date_block_num']).fillna(0)\n",
        "\n",
        "all_data = downcast_dtypes(all_data)\n",
        "del gb \n",
        "gc.collect();"
      ],
      "execution_count": null,
      "outputs": []
    },
    {
      "cell_type": "code",
      "metadata": {
        "id": "mzD3jz50otoU"
      },
      "source": [
        "final_train_target = pd.merge(train, all_data[['item_id', \"shop_id\", 'date_block_num', \"item_cnt_month\"]], how='inner', on=['item_id', \"shop_id\", 'date_block_num'])\n"
      ],
      "execution_count": null,
      "outputs": []
    },
    {
      "cell_type": "code",
      "metadata": {
        "id": "FC87J6F-PFLu"
      },
      "source": [
        "# rajouter \"target sur le final_train\"\n",
        "\n",
        "# Same as above but with item-month aggregates\n",
        "gb = final_train_target.groupby(['item_id', 'date_block_num']).item_cnt_month.agg(['mean']).rename(columns={'mean': 'item_sales'}).reset_index()\n",
        "all_data = pd.merge(all_data, gb, how='left', on=['item_id', 'date_block_num']).fillna(0)\n",
        "\n",
        "# #sort the data\n",
        "\n",
        "all_data.sort_values(['date_block_num','shop_id','item_id'],inplace=True)\n",
        "\n",
        "del gb \n",
        "gc.collect();"
      ],
      "execution_count": null,
      "outputs": []
    },
    {
      "cell_type": "code",
      "metadata": {
        "id": "UJ-vD6U9KrV8"
      },
      "source": [
        "all_data = pd.merge(items[['item_id', \"item_category_id\"]], all_data, how='inner', on=['item_id'])"
      ],
      "execution_count": null,
      "outputs": []
    },
    {
      "cell_type": "code",
      "metadata": {
        "id": "CE7gRar2RLwf"
      },
      "source": [
        "# Same as above but with category_month aggregates\n",
        "gb = final_train_target.groupby([\"item_category_id\",'date_block_num']).item_cnt_month.agg(['mean']).rename(columns={'mean': 'item_sales_by_category'}).reset_index()\n",
        "all_data = pd.merge(all_data, gb, how='left', on=[\"item_category_id\",'date_block_num']).fillna(0)\n",
        "\n",
        "del gb \n",
        "gc.collect();"
      ],
      "execution_count": null,
      "outputs": []
    },
    {
      "cell_type": "code",
      "metadata": {
        "colab": {
          "base_uri": "https://localhost:8080/"
        },
        "id": "63mRL7T0zW3k",
        "outputId": "b24477eb-f5ac-4126-bffc-f565054e7585"
      },
      "source": [
        "print(all_data.columns)\n",
        "print(all_data.isnull().sum())"
      ],
      "execution_count": null,
      "outputs": [
        {
          "output_type": "stream",
          "text": [
            "Index(['item_id', 'item_category_id', 'shop_id', 'date_block_num',\n",
            "       'item_cnt_month', 'shop_item_price', 'it_price', 'item_sales',\n",
            "       'item_sales_by_category'],\n",
            "      dtype='object')\n",
            "item_id                   0\n",
            "item_category_id          0\n",
            "shop_id                   0\n",
            "date_block_num            0\n",
            "item_cnt_month            0\n",
            "shop_item_price           0\n",
            "it_price                  0\n",
            "item_sales                0\n",
            "item_sales_by_category    0\n",
            "dtype: int64\n"
          ],
          "name": "stdout"
        }
      ]
    },
    {
      "cell_type": "code",
      "metadata": {
        "colab": {
          "base_uri": "https://localhost:8080/"
        },
        "id": "h_Faa5E-NNhY",
        "outputId": "f1a42512-852d-41b8-b85c-2688d2b914b1"
      },
      "source": [
        "all_data['item_cnt_month'].describe()"
      ],
      "execution_count": null,
      "outputs": [
        {
          "output_type": "execute_result",
          "data": {
            "text/plain": [
              "count    2.731818e+06\n",
              "mean     5.921957e-01\n",
              "std      5.408006e+00\n",
              "min     -4.000000e+00\n",
              "25%      0.000000e+00\n",
              "50%      0.000000e+00\n",
              "75%      0.000000e+00\n",
              "max      2.253000e+03\n",
              "Name: item_cnt_month, dtype: float64"
            ]
          },
          "metadata": {
            "tags": []
          },
          "execution_count": 419
        }
      ]
    },
    {
      "cell_type": "code",
      "metadata": {
        "colab": {
          "base_uri": "https://localhost:8080/",
          "height": 297
        },
        "id": "vJbGOnAzRiGD",
        "outputId": "14f2f9eb-f09b-43f8-b6a4-edde62232d09"
      },
      "source": [
        "all_data['item_cnt_month'].plot.hist(color='gray')\n",
        "\n"
      ],
      "execution_count": null,
      "outputs": [
        {
          "output_type": "execute_result",
          "data": {
            "text/plain": [
              "<matplotlib.axes._subplots.AxesSubplot at 0x7f135f381518>"
            ]
          },
          "metadata": {
            "tags": []
          },
          "execution_count": 326
        },
        {
          "output_type": "display_data",
          "data": {
            "image/png": "[encoded data removed]",
            "text/plain": [
              "<Figure size 432x288 with 1 Axes>"
            ]
          },
          "metadata": {
            "tags": []
          }
        }
      ]
    },
    {
      "cell_type": "code",
      "metadata": {
        "colab": {
          "base_uri": "https://localhost:8080/",
          "height": 297
        },
        "id": "kNKhh0-OSA0F",
        "outputId": "96993dff-5cfb-49f5-f93e-6e778a054b3a"
      },
      "source": [
        "all_data['item_cnt_month'] = np.clip(all_data['item_cnt_month'], 0, 20)\n",
        "all_data['item_cnt_month'].plot.hist(color='gray')\n",
        "\n",
        "#most of 'item_cnt_month' are 0. So we are scaling with the clip. "
      ],
      "execution_count": null,
      "outputs": [
        {
          "output_type": "execute_result",
          "data": {
            "text/plain": [
              "<matplotlib.axes._subplots.AxesSubplot at 0x7f135ec6d9e8>"
            ]
          },
          "metadata": {
            "tags": []
          },
          "execution_count": 327
        },
        {
          "output_type": "display_data",
          "data": {
            "image/png": "[encoded data removed]",
            "text/plain": [
              "<Figure size 432x288 with 1 Axes>"
            ]
          },
          "metadata": {
            "tags": []
          }
        }
      ]
    },
    {
      "cell_type": "code",
      "metadata": {
        "id": "k_I2oGBNeSBR"
      },
      "source": [
        "# Extract time based features.\n",
        "all_data['year'] = all_data['date_block_num'].apply(lambda x: ((x//12) + 2013))\n",
        "all_data['month'] = all_data['date_block_num'].apply(lambda x: (x % 12))\n",
        "\n"
      ],
      "execution_count": null,
      "outputs": []
    },
    {
      "cell_type": "code",
      "metadata": {
        "colab": {
          "base_uri": "https://localhost:8080/",
          "height": 518
        },
        "id": "S9XRx3ceeH7P",
        "outputId": "52f00c5f-1bdf-478d-ee81-11c0193676ba"
      },
      "source": [
        "%matplotlib inline \n",
        "import matplotlib \n",
        "import matplotlib.pyplot as plt \n",
        "import seaborn as sns\n",
        "\n",
        "\n",
        "plt.figure(figsize=(20,8))\n",
        "sns.lineplot(x=\"month\", y=\"item_cnt_month\", data=all_data).set_title(\"Monthly mean\")\n",
        "plt.show()\n",
        "\n",
        "# trending increase of item sales count at the end of the year. "
      ],
      "execution_count": null,
      "outputs": [
        {
          "output_type": "display_data",
          "data": {
            "image/png": "[encoded data removed]",
            "text/plain": [
              "<Figure size 1440x576 with 1 Axes>"
            ]
          },
          "metadata": {
            "tags": [],
            "needs_background": "light"
          }
        }
      ]
    },
    {
      "cell_type": "code",
      "metadata": {
        "colab": {
          "base_uri": "https://localhost:8080/",
          "height": 518
        },
        "id": "wX5jmt3crXdv",
        "outputId": "1e08f56b-390d-4d45-a554-d51147380267"
      },
      "source": [
        "#gb_cnt = train.groupby(index_cols)['item_cnt_day'].agg(['sum']).reset_index().rename(columns = {'sum': 'item_cnt_month'})\n",
        "\n",
        "plt.figure(figsize=(20,8))\n",
        "sns.lineplot(x=\"date_block_num\", y=\"item_cnt_month\", data=all_data).set_title(\"Monthly mean\")\n",
        "plt.show()\n",
        "\n",
        "#Overall, the total number of transactions by month for all shops is on a downward trend.\n",
        "#The two peaks correspond to the two year-end periods (Dec 2013 & Dec 2014) in the sales dataset."
      ],
      "execution_count": null,
      "outputs": [
        {
          "output_type": "display_data",
          "data": {
            "image/png": "[encoded data removed]",
            "text/plain": [
              "<Figure size 1440x576 with 1 Axes>"
            ]
          },
          "metadata": {
            "tags": [],
            "needs_background": "light"
          }
        }
      ]
    },
    {
      "cell_type": "code",
      "metadata": {
        "colab": {
          "base_uri": "https://localhost:8080/",
          "height": 518
        },
        "id": "v0f9nrYyexqr",
        "outputId": "6ccfadc7-7c0a-4843-e72e-88ac5fed19fc"
      },
      "source": [
        "plt.figure(figsize=(20,8))\n",
        "sns.barplot(x=\"item_category_id\", y=\"item_cnt_month\", data=all_data).set_title(\"Monthly mean\")\n",
        "plt.show()\n",
        "\n",
        "# few of the categories seems to hold most of the sell count."
      ],
      "execution_count": null,
      "outputs": [
        {
          "output_type": "display_data",
          "data": {
            "image/png": "[encoded data removed]",
            "text/plain": [
              "<Figure size 1440x576 with 1 Axes>"
            ]
          },
          "metadata": {
            "tags": [],
            "needs_background": "light"
          }
        }
      ]
    },
    {
      "cell_type": "code",
      "metadata": {
        "id": "TrrJVW0Fy8zI"
      },
      "source": [
        "#all_data[\"item_cnt_month\"].loc[all_data[\"item_category_id\"] == 71].tolist()"
      ],
      "execution_count": null,
      "outputs": []
    },
    {
      "cell_type": "code",
      "metadata": {
        "colab": {
          "base_uri": "https://localhost:8080/",
          "height": 518
        },
        "id": "L9czAri04vZI",
        "outputId": "f1842d0b-490e-4ed7-f9f2-2e1d015846ff"
      },
      "source": [
        "gp_category_mean = all_data.groupby(['item_category_id'], as_index=False)['item_cnt_month'].mean()\n",
        "plt.figure(figsize=(20,8))\n",
        "sns.barplot(x=\"item_category_id\", y=\"item_cnt_month\", data=gp_category_mean).set_title(\"Monthly mean\")\n",
        "plt.show()"
      ],
      "execution_count": null,
      "outputs": [
        {
          "output_type": "display_data",
          "data": {
            "image/png": "[encoded data removed]",
            "text/plain": [
              "<Figure size 1440x576 with 1 Axes>"
            ]
          },
          "metadata": {
            "tags": [],
            "needs_background": "light"
          }
        }
      ]
    },
    {
      "cell_type": "code",
      "metadata": {
        "colab": {
          "base_uri": "https://localhost:8080/",
          "height": 518
        },
        "id": "zJiRc6RYtJpX",
        "outputId": "a8fd7d16-ad04-4146-dfbb-070619e01577"
      },
      "source": [
        "#gb = final_train_target.groupby([\"item_category_id\",'date_block_num']).item_cnt_month.agg(['mean']).rename(columns={'mean': 'item_sales_by_category'}).reset_index()\n",
        "# its \n",
        "plt.figure(figsize=(20,8))\n",
        "sns.barplot(x=\"item_category_id\", y=\"item_sales_by_category\", data=all_data).set_title(\"Monthly mean\")\n",
        "plt.show()\n"
      ],
      "execution_count": null,
      "outputs": [
        {
          "output_type": "display_data",
          "data": {
            "image/png": "[encoded data removed]",
            "text/plain": [
              "<Figure size 1440x576 with 1 Axes>"
            ]
          },
          "metadata": {
            "tags": [],
            "needs_background": "light"
          }
        }
      ]
    },
    {
      "cell_type": "code",
      "metadata": {
        "colab": {
          "base_uri": "https://localhost:8080/",
          "height": 424
        },
        "id": "aeUnmDwF55WM",
        "outputId": "3acd0945-6d8c-4183-cecf-b36d99091e33"
      },
      "source": [
        "train_monthly = train.sort_values('date').groupby(['date_block_num', 'shop_id', 'item_category_id', 'item_id'], as_index=False)\n",
        "train_monthly.head()"
      ],
      "execution_count": null,
      "outputs": [
        {
          "output_type": "execute_result",
          "data": {
            "text/html": [
              "<div>\n",
              "<style scoped>\n",
              "    .dataframe tbody tr th:only-of-type {\n",
              "        vertical-align: middle;\n",
              "    }\n",
              "\n",
              "    .dataframe tbody tr th {\n",
              "        vertical-align: top;\n",
              "    }\n",
              "\n",
              "    .dataframe thead th {\n",
              "        text-align: right;\n",
              "    }\n",
              "</style>\n",
              "<table border=\"1\" class=\"dataframe\">\n",
              "  <thead>\n",
              "    <tr style=\"text-align: right;\">\n",
              "      <th></th>\n",
              "      <th>date</th>\n",
              "      <th>date_block_num</th>\n",
              "      <th>shop_id</th>\n",
              "      <th>item_id</th>\n",
              "      <th>item_price</th>\n",
              "      <th>item_cnt_day</th>\n",
              "      <th>item_category_id</th>\n",
              "    </tr>\n",
              "  </thead>\n",
              "  <tbody>\n",
              "    <tr>\n",
              "      <th>3792</th>\n",
              "      <td>01.01.2013</td>\n",
              "      <td>0</td>\n",
              "      <td>28</td>\n",
              "      <td>16135</td>\n",
              "      <td>249.0</td>\n",
              "      <td>1.0</td>\n",
              "      <td>65</td>\n",
              "    </tr>\n",
              "    <tr>\n",
              "      <th>8044</th>\n",
              "      <td>01.01.2013</td>\n",
              "      <td>0</td>\n",
              "      <td>7</td>\n",
              "      <td>8012</td>\n",
              "      <td>299.0</td>\n",
              "      <td>1.0</td>\n",
              "      <td>55</td>\n",
              "    </tr>\n",
              "    <tr>\n",
              "      <th>15334</th>\n",
              "      <td>01.01.2013</td>\n",
              "      <td>0</td>\n",
              "      <td>37</td>\n",
              "      <td>2703</td>\n",
              "      <td>599.0</td>\n",
              "      <td>1.0</td>\n",
              "      <td>30</td>\n",
              "    </tr>\n",
              "    <tr>\n",
              "      <th>8033</th>\n",
              "      <td>01.01.2013</td>\n",
              "      <td>0</td>\n",
              "      <td>7</td>\n",
              "      <td>10786</td>\n",
              "      <td>249.0</td>\n",
              "      <td>1.0</td>\n",
              "      <td>55</td>\n",
              "    </tr>\n",
              "    <tr>\n",
              "      <th>6745</th>\n",
              "      <td>01.01.2013</td>\n",
              "      <td>0</td>\n",
              "      <td>15</td>\n",
              "      <td>2308</td>\n",
              "      <td>799.0</td>\n",
              "      <td>1.0</td>\n",
              "      <td>30</td>\n",
              "    </tr>\n",
              "    <tr>\n",
              "      <th>...</th>\n",
              "      <td>...</td>\n",
              "      <td>...</td>\n",
              "      <td>...</td>\n",
              "      <td>...</td>\n",
              "      <td>...</td>\n",
              "      <td>...</td>\n",
              "      <td>...</td>\n",
              "    </tr>\n",
              "    <tr>\n",
              "      <th>751780</th>\n",
              "      <td>31.12.2014</td>\n",
              "      <td>23</td>\n",
              "      <td>21</td>\n",
              "      <td>15275</td>\n",
              "      <td>1599.0</td>\n",
              "      <td>1.0</td>\n",
              "      <td>63</td>\n",
              "    </tr>\n",
              "    <tr>\n",
              "      <th>731211</th>\n",
              "      <td>31.12.2014</td>\n",
              "      <td>23</td>\n",
              "      <td>19</td>\n",
              "      <td>5634</td>\n",
              "      <td>3290.0</td>\n",
              "      <td>1.0</td>\n",
              "      <td>2</td>\n",
              "    </tr>\n",
              "    <tr>\n",
              "      <th>731220</th>\n",
              "      <td>31.12.2014</td>\n",
              "      <td>23</td>\n",
              "      <td>19</td>\n",
              "      <td>5900</td>\n",
              "      <td>1199.0</td>\n",
              "      <td>1.0</td>\n",
              "      <td>30</td>\n",
              "    </tr>\n",
              "    <tr>\n",
              "      <th>731469</th>\n",
              "      <td>31.12.2014</td>\n",
              "      <td>23</td>\n",
              "      <td>19</td>\n",
              "      <td>15279</td>\n",
              "      <td>1099.0</td>\n",
              "      <td>1.0</td>\n",
              "      <td>63</td>\n",
              "    </tr>\n",
              "    <tr>\n",
              "      <th>738950</th>\n",
              "      <td>31.12.2014</td>\n",
              "      <td>23</td>\n",
              "      <td>6</td>\n",
              "      <td>4633</td>\n",
              "      <td>2549.0</td>\n",
              "      <td>1.0</td>\n",
              "      <td>67</td>\n",
              "    </tr>\n",
              "  </tbody>\n",
              "</table>\n",
              "<p>1075034 rows × 7 columns</p>\n",
              "</div>"
            ],
            "text/plain": [
              "              date  date_block_num  ...  item_cnt_day  item_category_id\n",
              "3792    01.01.2013               0  ...           1.0                65\n",
              "8044    01.01.2013               0  ...           1.0                55\n",
              "15334   01.01.2013               0  ...           1.0                30\n",
              "8033    01.01.2013               0  ...           1.0                55\n",
              "6745    01.01.2013               0  ...           1.0                30\n",
              "...            ...             ...  ...           ...               ...\n",
              "751780  31.12.2014              23  ...           1.0                63\n",
              "731211  31.12.2014              23  ...           1.0                 2\n",
              "731220  31.12.2014              23  ...           1.0                30\n",
              "731469  31.12.2014              23  ...           1.0                63\n",
              "738950  31.12.2014              23  ...           1.0                67\n",
              "\n",
              "[1075034 rows x 7 columns]"
            ]
          },
          "metadata": {
            "tags": []
          },
          "execution_count": 457
        }
      ]
    },
    {
      "cell_type": "code",
      "metadata": {
        "id": "xfSzRxKlu-X3"
      },
      "source": [
        "gb = train.groupby(['shop_id', 'item_id', 'date_block_num']).item_price.agg(['mean']).rename(columns={'mean': 'shop_item_price'}).reset_index()\n",
        "\n",
        "plt.figure(figsize=(20,8))\n",
        "sns.lineplot(x=\"item_id\", y=\"item_cnt_month\", data=all_data).set_title(\"Monthly mean\")\n",
        "plt.show()\n",
        "\n"
      ],
      "execution_count": null,
      "outputs": []
    },
    {
      "cell_type": "markdown",
      "metadata": {
        "id": "25ezlp_bhvEH"
      },
      "source": [
        "## lagged features"
      ]
    },
    {
      "cell_type": "code",
      "metadata": {
        "id": "CkiFUJfIeIJ_"
      },
      "source": [
        "all_data = train"
      ],
      "execution_count": null,
      "outputs": []
    },
    {
      "cell_type": "code",
      "metadata": {
        "colab": {
          "base_uri": "https://localhost:8080/",
          "height": 206
        },
        "id": "MVqH8q9T5pT-",
        "outputId": "98268cfc-3185-4060-d48f-546c790d5312"
      },
      "source": [
        "train.head()"
      ],
      "execution_count": null,
      "outputs": [
        {
          "output_type": "execute_result",
          "data": {
            "text/html": [
              "<div>\n",
              "<style scoped>\n",
              "    .dataframe tbody tr th:only-of-type {\n",
              "        vertical-align: middle;\n",
              "    }\n",
              "\n",
              "    .dataframe tbody tr th {\n",
              "        vertical-align: top;\n",
              "    }\n",
              "\n",
              "    .dataframe thead th {\n",
              "        text-align: right;\n",
              "    }\n",
              "</style>\n",
              "<table border=\"1\" class=\"dataframe\">\n",
              "  <thead>\n",
              "    <tr style=\"text-align: right;\">\n",
              "      <th></th>\n",
              "      <th>item_id</th>\n",
              "      <th>item_category_id</th>\n",
              "      <th>shop_id</th>\n",
              "      <th>date_block_num</th>\n",
              "      <th>item_cnt_month</th>\n",
              "      <th>shop_item_price</th>\n",
              "      <th>it_price</th>\n",
              "      <th>item_sales</th>\n",
              "      <th>item_sales_by_category</th>\n",
              "    </tr>\n",
              "  </thead>\n",
              "  <tbody>\n",
              "    <tr>\n",
              "      <th>0</th>\n",
              "      <td>0</td>\n",
              "      <td>40</td>\n",
              "      <td>2</td>\n",
              "      <td>20</td>\n",
              "      <td>0</td>\n",
              "      <td>0.0</td>\n",
              "      <td>58.0</td>\n",
              "      <td>1.0</td>\n",
              "      <td>3.744558</td>\n",
              "    </tr>\n",
              "    <tr>\n",
              "      <th>1</th>\n",
              "      <td>0</td>\n",
              "      <td>40</td>\n",
              "      <td>3</td>\n",
              "      <td>20</td>\n",
              "      <td>0</td>\n",
              "      <td>0.0</td>\n",
              "      <td>58.0</td>\n",
              "      <td>1.0</td>\n",
              "      <td>3.744558</td>\n",
              "    </tr>\n",
              "    <tr>\n",
              "      <th>2</th>\n",
              "      <td>0</td>\n",
              "      <td>40</td>\n",
              "      <td>4</td>\n",
              "      <td>20</td>\n",
              "      <td>0</td>\n",
              "      <td>0.0</td>\n",
              "      <td>58.0</td>\n",
              "      <td>1.0</td>\n",
              "      <td>3.744558</td>\n",
              "    </tr>\n",
              "    <tr>\n",
              "      <th>3</th>\n",
              "      <td>0</td>\n",
              "      <td>40</td>\n",
              "      <td>5</td>\n",
              "      <td>20</td>\n",
              "      <td>0</td>\n",
              "      <td>0.0</td>\n",
              "      <td>58.0</td>\n",
              "      <td>1.0</td>\n",
              "      <td>3.744558</td>\n",
              "    </tr>\n",
              "    <tr>\n",
              "      <th>4</th>\n",
              "      <td>0</td>\n",
              "      <td>40</td>\n",
              "      <td>6</td>\n",
              "      <td>20</td>\n",
              "      <td>0</td>\n",
              "      <td>0.0</td>\n",
              "      <td>58.0</td>\n",
              "      <td>1.0</td>\n",
              "      <td>3.744558</td>\n",
              "    </tr>\n",
              "  </tbody>\n",
              "</table>\n",
              "</div>"
            ],
            "text/plain": [
              "   item_id  item_category_id  ...  item_sales  item_sales_by_category\n",
              "0        0                40  ...         1.0                3.744558\n",
              "1        0                40  ...         1.0                3.744558\n",
              "2        0                40  ...         1.0                3.744558\n",
              "3        0                40  ...         1.0                3.744558\n",
              "4        0                40  ...         1.0                3.744558\n",
              "\n",
              "[5 rows x 9 columns]"
            ]
          },
          "metadata": {
            "tags": []
          },
          "execution_count": 116
        }
      ]
    },
    {
      "cell_type": "code",
      "metadata": {
        "colab": {
          "base_uri": "https://localhost:8080/"
        },
        "id": "uRp92VHivhhk",
        "outputId": "32ef3e1b-e5f6-4586-8eee-ebc932952b76"
      },
      "source": [
        "from sklearn.model_selection import KFold\n",
        "from tqdm import tqdm\n",
        "\n",
        "# # Add item/shop pair mean-encodings -----------------------------------------\n",
        "\n",
        "# # For Trainset\n",
        "\n",
        "Target = 'item_cnt_month'\n",
        "global_mean =  train[Target].mean()\n",
        "y_tr = train[Target].values\n",
        "\n",
        "mean_encoded_col = ['item_category_id'] #'shop_id', 'item_id'\n",
        "\n",
        "SEED = 0\n",
        "\n",
        "for col in tqdm(mean_encoded_col):\n",
        "\n",
        "  col_tr = train[[col] + [Target]]\n",
        "  corrcoefs = pd.DataFrame(columns = ['Cor'])\n",
        "\n",
        "# # 3.1.1 Mean encodings - KFold scheme\n",
        "\n",
        "  kf = KFold(n_splits = 5, shuffle = False, random_state = SEED)\n",
        "  col_tr[col + '_cnt_month_mean_Kfold'] = global_mean\n",
        "\n",
        "  for tr_ind, val_ind in kf.split(col_tr):\n",
        "\n",
        "    X_tr, X_val = col_tr.iloc[tr_ind], col_tr.iloc[val_ind]\n",
        "    means = X_val[col].map(X_tr.groupby(col)[Target].mean())\n",
        "    X_val[col + '_cnt_month_mean_Kfold'] = means\n",
        "    col_tr.iloc[val_ind] = X_val\n",
        "    # X_val.head()\n",
        "\n",
        "  col_tr.fillna(global_mean, inplace = True)\n",
        "  corrcoefs.loc[col + '_cnt_month_mean_Kfold'] = np.corrcoef(y_tr, col_tr[col + '_cnt_month_mean_Kfold'])[0][1]\n",
        "  train = pd.concat([train, col_tr[corrcoefs['Cor'].idxmax()]], axis = 1)\n",
        "  print(corrcoefs.sort_values('Cor'))\n",
        "\n",
        "\n",
        "#Le mean encoding représente une probabilité de target pour chaque valeur de la variable encodée.\n",
        "#D’où l’utilisation de l’ensemble des données de la variable id_catégorie pour l’encodage. \n",
        "#Si j’ajoute une condition dans le mean encoding comme le mois mon test à un mauvais score. \n",
        "\n"
      ],
      "execution_count": null,
      "outputs": [
        {
          "output_type": "stream",
          "text": [
            "\r  0%|          | 0/1 [00:00<?, ?it/s]/usr/local/lib/python3.6/dist-packages/sklearn/model_selection/_split.py:296: FutureWarning: Setting a random_state has no effect since shuffle is False. This will raise an error in 0.24. You should leave random_state to its default (None), or set shuffle=True.\n",
            "  FutureWarning\n",
            "/usr/local/lib/python3.6/dist-packages/ipykernel_launcher.py:24: SettingWithCopyWarning: \n",
            "A value is trying to be set on a copy of a slice from a DataFrame.\n",
            "Try using .loc[row_indexer,col_indexer] = value instead\n",
            "\n",
            "See the caveats in the documentation: https://pandas.pydata.org/pandas-docs/stable/user_guide/indexing.html#returning-a-view-versus-a-copy\n",
            "/usr/local/lib/python3.6/dist-packages/ipykernel_launcher.py:30: SettingWithCopyWarning: \n",
            "A value is trying to be set on a copy of a slice from a DataFrame.\n",
            "Try using .loc[row_indexer,col_indexer] = value instead\n",
            "\n",
            "See the caveats in the documentation: https://pandas.pydata.org/pandas-docs/stable/user_guide/indexing.html#returning-a-view-versus-a-copy\n",
            "/usr/local/lib/python3.6/dist-packages/pandas/core/indexing.py:1715: SettingWithCopyWarning: \n",
            "A value is trying to be set on a copy of a slice from a DataFrame.\n",
            "Try using .loc[row_indexer,col_indexer] = value instead\n",
            "\n",
            "See the caveats in the documentation: https://pandas.pydata.org/pandas-docs/stable/user_guide/indexing.html#returning-a-view-versus-a-copy\n",
            "  isetter(loc, v)\n",
            "/usr/local/lib/python3.6/dist-packages/pandas/core/frame.py:4327: SettingWithCopyWarning: \n",
            "A value is trying to be set on a copy of a slice from a DataFrame\n",
            "\n",
            "See the caveats in the documentation: https://pandas.pydata.org/pandas-docs/stable/user_guide/indexing.html#returning-a-view-versus-a-copy\n",
            "  downcast=downcast,\n",
            "100%|██████████| 1/1 [00:04<00:00,  4.69s/it]"
          ],
          "name": "stderr"
        },
        {
          "output_type": "stream",
          "text": [
            "                                            Cor\n",
            "item_category_id_cnt_month_mean_Kfold  0.171661\n"
          ],
          "name": "stdout"
        },
        {
          "output_type": "stream",
          "text": [
            "\n"
          ],
          "name": "stderr"
        }
      ]
    },
    {
      "cell_type": "code",
      "metadata": {
        "colab": {
          "base_uri": "https://localhost:8080/"
        },
        "id": "wR7s5-K9rsDe",
        "outputId": "62da25b7-31de-46fd-a286-52bcefbabc6f"
      },
      "source": [
        "#pd.value_counts(all_data[\"item_category_id_cnt_month_mean_Kfold\"].loc[all_data['item_category_id'] == 12])\n"
      ],
      "execution_count": null,
      "outputs": [
        {
          "output_type": "execute_result",
          "data": {
            "text/plain": [
              "4.330411    2386\n",
              "0.857502    1734\n",
              "0.000000     462\n",
              "Name: item_category_id_cnt_month_mean_Kfold, dtype: int64"
            ]
          },
          "metadata": {
            "tags": []
          },
          "execution_count": 203
        }
      ]
    },
    {
      "cell_type": "code",
      "metadata": {
        "id": "zlRpxHZCvh9d"
      },
      "source": [
        "test['date_block_num'] = 34\n",
        "all_data = pd.concat([train, test], axis = 0)\n",
        "all_data = all_data.drop(columns = ['ID'])"
      ],
      "execution_count": null,
      "outputs": []
    },
    {
      "cell_type": "code",
      "metadata": {
        "colab": {
          "base_uri": "https://localhost:8080/",
          "height": 226
        },
        "id": "bM2ZsrZX-D-a",
        "outputId": "a240e576-4a83-49d9-bd2e-4541152c68d2"
      },
      "source": [
        "all_data.head()"
      ],
      "execution_count": null,
      "outputs": [
        {
          "output_type": "execute_result",
          "data": {
            "text/html": [
              "<div>\n",
              "<style scoped>\n",
              "    .dataframe tbody tr th:only-of-type {\n",
              "        vertical-align: middle;\n",
              "    }\n",
              "\n",
              "    .dataframe tbody tr th {\n",
              "        vertical-align: top;\n",
              "    }\n",
              "\n",
              "    .dataframe thead th {\n",
              "        text-align: right;\n",
              "    }\n",
              "</style>\n",
              "<table border=\"1\" class=\"dataframe\">\n",
              "  <thead>\n",
              "    <tr style=\"text-align: right;\">\n",
              "      <th></th>\n",
              "      <th>item_id</th>\n",
              "      <th>item_category_id</th>\n",
              "      <th>shop_id</th>\n",
              "      <th>date_block_num</th>\n",
              "      <th>item_cnt_month</th>\n",
              "      <th>shop_item_price</th>\n",
              "      <th>it_price</th>\n",
              "      <th>item_sales</th>\n",
              "      <th>item_sales_by_category</th>\n",
              "      <th>item_category_id_cnt_month_mean_Kfold</th>\n",
              "    </tr>\n",
              "  </thead>\n",
              "  <tbody>\n",
              "    <tr>\n",
              "      <th>0</th>\n",
              "      <td>0</td>\n",
              "      <td>40</td>\n",
              "      <td>2</td>\n",
              "      <td>20</td>\n",
              "      <td>0.0</td>\n",
              "      <td>0.0</td>\n",
              "      <td>58.0</td>\n",
              "      <td>1.0</td>\n",
              "      <td>3.744558</td>\n",
              "      <td>0.242651</td>\n",
              "    </tr>\n",
              "    <tr>\n",
              "      <th>1</th>\n",
              "      <td>0</td>\n",
              "      <td>40</td>\n",
              "      <td>3</td>\n",
              "      <td>20</td>\n",
              "      <td>0.0</td>\n",
              "      <td>0.0</td>\n",
              "      <td>58.0</td>\n",
              "      <td>1.0</td>\n",
              "      <td>3.744558</td>\n",
              "      <td>0.242651</td>\n",
              "    </tr>\n",
              "    <tr>\n",
              "      <th>2</th>\n",
              "      <td>0</td>\n",
              "      <td>40</td>\n",
              "      <td>4</td>\n",
              "      <td>20</td>\n",
              "      <td>0.0</td>\n",
              "      <td>0.0</td>\n",
              "      <td>58.0</td>\n",
              "      <td>1.0</td>\n",
              "      <td>3.744558</td>\n",
              "      <td>0.242651</td>\n",
              "    </tr>\n",
              "    <tr>\n",
              "      <th>3</th>\n",
              "      <td>0</td>\n",
              "      <td>40</td>\n",
              "      <td>5</td>\n",
              "      <td>20</td>\n",
              "      <td>0.0</td>\n",
              "      <td>0.0</td>\n",
              "      <td>58.0</td>\n",
              "      <td>1.0</td>\n",
              "      <td>3.744558</td>\n",
              "      <td>0.242651</td>\n",
              "    </tr>\n",
              "    <tr>\n",
              "      <th>4</th>\n",
              "      <td>0</td>\n",
              "      <td>40</td>\n",
              "      <td>6</td>\n",
              "      <td>20</td>\n",
              "      <td>0.0</td>\n",
              "      <td>0.0</td>\n",
              "      <td>58.0</td>\n",
              "      <td>1.0</td>\n",
              "      <td>3.744558</td>\n",
              "      <td>0.242651</td>\n",
              "    </tr>\n",
              "  </tbody>\n",
              "</table>\n",
              "</div>"
            ],
            "text/plain": [
              "   item_id  ...  item_category_id_cnt_month_mean_Kfold\n",
              "0        0  ...                               0.242651\n",
              "1        0  ...                               0.242651\n",
              "2        0  ...                               0.242651\n",
              "3        0  ...                               0.242651\n",
              "4        0  ...                               0.242651\n",
              "\n",
              "[5 rows x 10 columns]"
            ]
          },
          "metadata": {
            "tags": []
          },
          "execution_count": 169
        }
      ]
    },
    {
      "cell_type": "code",
      "metadata": {
        "colab": {
          "base_uri": "https://localhost:8080/"
        },
        "id": "_3FqGzpMviNG",
        "outputId": "e4491031-9868-4785-e17c-31647277b1a4"
      },
      "source": [
        "from tqdm import tqdm\n",
        "\n",
        "# # Creating item/shop pair lags lag-based features\n",
        "\n",
        "index_cols = ['shop_id', 'item_id',  'date_block_num', 'item_category_id'] #\"item_category_id_cnt_month_mean_Kfold\"\n",
        "cols_to_rename = list(all_data.columns.difference(index_cols))\n",
        "print(cols_to_rename)\n",
        "shift_range = [1, 2, 3, 4, 12]\n",
        "\n",
        "for month_shift in tqdm(shift_range):\n",
        "\n",
        "  train_shift = all_data[index_cols + cols_to_rename].copy()\n",
        "  train_shift['date_block_num'] = train_shift['date_block_num'] + month_shift\n",
        "  foo = lambda x: '{}_lag_{}'.format(x, month_shift) if x in cols_to_rename else x\n",
        "  train_shift = train_shift.rename(columns=foo)\n",
        "  all_data = pd.merge(all_data, train_shift, on=index_cols, how='left').fillna(0)\n",
        "\n",
        "del train_shift\n",
        "gc.collect()\n",
        "\n",
        "\n",
        "all_data = all_data[all_data['date_block_num'] >= 12] # Don't use old data from year 2013\n",
        "lag_cols = [col for col in all_data.columns if col[-1] in [str(item) for item in shift_range]]\n",
        "all_data = downcast_dtypes(all_data)"
      ],
      "execution_count": null,
      "outputs": [
        {
          "output_type": "stream",
          "text": [
            "\r  0%|          | 0/5 [00:00<?, ?it/s]"
          ],
          "name": "stderr"
        },
        {
          "output_type": "stream",
          "text": [
            "['it_price', 'item_category_id_cnt_month_mean_Kfold', 'item_cnt_month', 'item_sales', 'item_sales_by_category', 'shop_item_price']\n"
          ],
          "name": "stdout"
        },
        {
          "output_type": "stream",
          "text": [
            "100%|██████████| 5/5 [01:08<00:00, 13.65s/it]\n"
          ],
          "name": "stderr"
        }
      ]
    },
    {
      "cell_type": "markdown",
      "metadata": {
        "id": "mLzAtV4qX85-"
      },
      "source": [
        "## Feature generation "
      ]
    },
    {
      "cell_type": "code",
      "metadata": {
        "colab": {
          "base_uri": "https://localhost:8080/",
          "height": 293
        },
        "id": "ClH5R-J_X7Tn",
        "outputId": "f74817d0-9a89-4a7c-fa21-802f82e4a1a0"
      },
      "source": [
        "final_train[\"revenue\"] = final_train[\"item_price\"]*final_train[\"item_cnt_day\"]\n",
        "final_train.head()"
      ],
      "execution_count": null,
      "outputs": [
        {
          "output_type": "execute_result",
          "data": {
            "text/html": [
              "<div>\n",
              "<style scoped>\n",
              "    .dataframe tbody tr th:only-of-type {\n",
              "        vertical-align: middle;\n",
              "    }\n",
              "\n",
              "    .dataframe tbody tr th {\n",
              "        vertical-align: top;\n",
              "    }\n",
              "\n",
              "    .dataframe thead th {\n",
              "        text-align: right;\n",
              "    }\n",
              "</style>\n",
              "<table border=\"1\" class=\"dataframe\">\n",
              "  <thead>\n",
              "    <tr style=\"text-align: right;\">\n",
              "      <th></th>\n",
              "      <th>item_name</th>\n",
              "      <th>item_id</th>\n",
              "      <th>item_category_id</th>\n",
              "      <th>item_category_name</th>\n",
              "      <th>date</th>\n",
              "      <th>date_block_num</th>\n",
              "      <th>shop_id</th>\n",
              "      <th>item_price</th>\n",
              "      <th>item_cnt_day</th>\n",
              "      <th>ID</th>\n",
              "      <th>shop_name</th>\n",
              "      <th>revenue</th>\n",
              "    </tr>\n",
              "  </thead>\n",
              "  <tbody>\n",
              "    <tr>\n",
              "      <th>0</th>\n",
              "      <td>! ВО ВЛАСТИ НАВАЖДЕНИЯ (ПЛАСТ.)         D</td>\n",
              "      <td>0</td>\n",
              "      <td>40</td>\n",
              "      <td>Кино - DVD</td>\n",
              "      <td>01.09.2014</td>\n",
              "      <td>20.0</td>\n",
              "      <td>54</td>\n",
              "      <td>58.0</td>\n",
              "      <td>1.0</td>\n",
              "      <td>0.0</td>\n",
              "      <td>Химки ТЦ \"Мега\"</td>\n",
              "      <td>58.0</td>\n",
              "    </tr>\n",
              "    <tr>\n",
              "      <th>1</th>\n",
              "      <td>***В ЛУЧАХ СЛАВЫ   (UNV)                    D</td>\n",
              "      <td>2</td>\n",
              "      <td>40</td>\n",
              "      <td>Кино - DVD</td>\n",
              "      <td>24.08.2014</td>\n",
              "      <td>19.0</td>\n",
              "      <td>54</td>\n",
              "      <td>58.0</td>\n",
              "      <td>1.0</td>\n",
              "      <td>0.0</td>\n",
              "      <td>Химки ТЦ \"Мега\"</td>\n",
              "      <td>58.0</td>\n",
              "    </tr>\n",
              "    <tr>\n",
              "      <th>2</th>\n",
              "      <td>***В ЛУЧАХ СЛАВЫ   (UNV)                    D</td>\n",
              "      <td>2</td>\n",
              "      <td>40</td>\n",
              "      <td>Кино - DVD</td>\n",
              "      <td>12.11.2014</td>\n",
              "      <td>22.0</td>\n",
              "      <td>54</td>\n",
              "      <td>58.0</td>\n",
              "      <td>1.0</td>\n",
              "      <td>0.0</td>\n",
              "      <td>Химки ТЦ \"Мега\"</td>\n",
              "      <td>58.0</td>\n",
              "    </tr>\n",
              "    <tr>\n",
              "      <th>3</th>\n",
              "      <td>***ГОЛУБАЯ ВОЛНА  (Univ)                      D</td>\n",
              "      <td>3</td>\n",
              "      <td>40</td>\n",
              "      <td>Кино - DVD</td>\n",
              "      <td>05.07.2014</td>\n",
              "      <td>18.0</td>\n",
              "      <td>54</td>\n",
              "      <td>100.0</td>\n",
              "      <td>1.0</td>\n",
              "      <td>0.0</td>\n",
              "      <td>Химки ТЦ \"Мега\"</td>\n",
              "      <td>100.0</td>\n",
              "    </tr>\n",
              "    <tr>\n",
              "      <th>4</th>\n",
              "      <td>***ГОЛУБАЯ ВОЛНА  (Univ)                      D</td>\n",
              "      <td>3</td>\n",
              "      <td>40</td>\n",
              "      <td>Кино - DVD</td>\n",
              "      <td>26.08.2014</td>\n",
              "      <td>19.0</td>\n",
              "      <td>54</td>\n",
              "      <td>58.0</td>\n",
              "      <td>1.0</td>\n",
              "      <td>0.0</td>\n",
              "      <td>Химки ТЦ \"Мега\"</td>\n",
              "      <td>58.0</td>\n",
              "    </tr>\n",
              "  </tbody>\n",
              "</table>\n",
              "</div>"
            ],
            "text/plain": [
              "                                         item_name  ...  revenue\n",
              "0        ! ВО ВЛАСТИ НАВАЖДЕНИЯ (ПЛАСТ.)         D  ...     58.0\n",
              "1    ***В ЛУЧАХ СЛАВЫ   (UNV)                    D  ...     58.0\n",
              "2    ***В ЛУЧАХ СЛАВЫ   (UNV)                    D  ...     58.0\n",
              "3  ***ГОЛУБАЯ ВОЛНА  (Univ)                      D  ...    100.0\n",
              "4  ***ГОЛУБАЯ ВОЛНА  (Univ)                      D  ...     58.0\n",
              "\n",
              "[5 rows x 12 columns]"
            ]
          },
          "metadata": {
            "tags": []
          },
          "execution_count": 14
        }
      ]
    },
    {
      "cell_type": "markdown",
      "metadata": {
        "id": "3bCndJq13QWt"
      },
      "source": [
        "## Remove outliers"
      ]
    },
    {
      "cell_type": "code",
      "metadata": {
        "id": "nreHt9Ux3Z67"
      },
      "source": [
        "final_train = final_train[final_train.item_price<100000]\n",
        "final_train = final_train[final_train.item_cnt_day<1001]"
      ],
      "execution_count": null,
      "outputs": []
    },
    {
      "cell_type": "code",
      "metadata": {
        "id": "SraZaJ273dA8"
      },
      "source": [
        "median = final_train[(final_train.shop_id==32)&(final_train.item_id==2973)&(final_train.date_block_num==4)&(final_train.item_price>0)].item_price.median()\n",
        "final_train.loc[final_train.item_price<0, 'item_price'] = median"
      ],
      "execution_count": null,
      "outputs": []
    },
    {
      "cell_type": "code",
      "metadata": {
        "id": "K6xWNJxY3fW8"
      },
      "source": [
        "# Якутск Орджоникидзе, 56\n",
        "final_train.loc[final_train.shop_id == 0, 'shop_id'] = 57\n",
        "\n",
        "# Якутск ТЦ \"Центральный\"\n",
        "final_train.loc[final_train.shop_id == 1, 'shop_id'] = 58\n",
        "\n",
        "# Жуковский ул. Чкалова 39м²\n",
        "final_train.loc[final_train.shop_id == 10, 'shop_id'] = 11\n"
      ],
      "execution_count": null,
      "outputs": []
    },
    {
      "cell_type": "markdown",
      "metadata": {
        "id": "M7B1Y-G3dITO"
      },
      "source": [
        "## item_cat_id mean encoding"
      ]
    },
    {
      "cell_type": "code",
      "metadata": {
        "id": "2tFGnGRgdO6H",
        "colab": {
          "base_uri": "https://localhost:8080/"
        },
        "outputId": "cda74b72-6de5-4d3c-92ae-9d1f372f725c"
      },
      "source": [
        "#mean encoding for item_category\n",
        "\n",
        "from sklearn.model_selection import KFold\n",
        "\n",
        "train_new = pd.DataFrame()\n",
        "y = all_data[\"target\"]\n",
        "kf = KFold(n_splits=5, shuffle=False, random_state=123)\n",
        "for spt, spv in kf.split(y) :\n",
        "    train, val = all_data.iloc[spt], all_data.iloc[spv]\n",
        "    # target coding of valid dataset depends on train dataset(with loops several parts of the val df mean encoding)\n",
        "    val[\"item_category_enc\"] = val[\"item_category_id\"].map(train.groupby(\"item_category_id\").target.mean())\n",
        "    # copy target encoding back to all_data \n",
        "    rowIndex = val.index\n",
        "    all_data.loc[rowIndex, \"item_category_enc\"] = val[\"item_category_enc\"]\n",
        "    \n",
        "prior = all_data[\"target\"].mean()\n",
        "all_data.fillna(prior,inplace=True)\n",
        "\n"
      ],
      "execution_count": null,
      "outputs": [
        {
          "output_type": "stream",
          "text": [
            "/usr/local/lib/python3.6/dist-packages/sklearn/model_selection/_split.py:296: FutureWarning: Setting a random_state has no effect since shuffle is False. This will raise an error in 0.24. You should leave random_state to its default (None), or set shuffle=True.\n",
            "  FutureWarning\n",
            "/usr/local/lib/python3.6/dist-packages/ipykernel_launcher.py:11: SettingWithCopyWarning: \n",
            "A value is trying to be set on a copy of a slice from a DataFrame.\n",
            "Try using .loc[row_indexer,col_indexer] = value instead\n",
            "\n",
            "See the caveats in the documentation: https://pandas.pydata.org/pandas-docs/stable/user_guide/indexing.html#returning-a-view-versus-a-copy\n",
            "  # This is added back by InteractiveShellApp.init_path()\n"
          ],
          "name": "stderr"
        }
      ]
    },
    {
      "cell_type": "code",
      "metadata": {
        "id": "fzt4HfaUdqFQ",
        "colab": {
          "base_uri": "https://localhost:8080/",
          "height": 424
        },
        "outputId": "3bcb9b92-14e4-4c7d-d168-d398b5dc1a1d"
      },
      "source": [
        "all_data[[\"item_category_id\",\"item_category_enc\", \"shop_id\", \"item_id\"]]"
      ],
      "execution_count": null,
      "outputs": [
        {
          "output_type": "execute_result",
          "data": {
            "text/html": [
              "<div>\n",
              "<style scoped>\n",
              "    .dataframe tbody tr th:only-of-type {\n",
              "        vertical-align: middle;\n",
              "    }\n",
              "\n",
              "    .dataframe tbody tr th {\n",
              "        vertical-align: top;\n",
              "    }\n",
              "\n",
              "    .dataframe thead th {\n",
              "        text-align: right;\n",
              "    }\n",
              "</style>\n",
              "<table border=\"1\" class=\"dataframe\">\n",
              "  <thead>\n",
              "    <tr style=\"text-align: right;\">\n",
              "      <th></th>\n",
              "      <th>item_category_id</th>\n",
              "      <th>item_category_enc</th>\n",
              "      <th>shop_id</th>\n",
              "      <th>item_id</th>\n",
              "    </tr>\n",
              "  </thead>\n",
              "  <tbody>\n",
              "    <tr>\n",
              "      <th>0</th>\n",
              "      <td>40</td>\n",
              "      <td>0.205622</td>\n",
              "      <td>54</td>\n",
              "      <td>0</td>\n",
              "    </tr>\n",
              "    <tr>\n",
              "      <th>1</th>\n",
              "      <td>40</td>\n",
              "      <td>0.205622</td>\n",
              "      <td>56</td>\n",
              "      <td>0</td>\n",
              "    </tr>\n",
              "    <tr>\n",
              "      <th>2</th>\n",
              "      <td>40</td>\n",
              "      <td>0.205622</td>\n",
              "      <td>44</td>\n",
              "      <td>0</td>\n",
              "    </tr>\n",
              "    <tr>\n",
              "      <th>3</th>\n",
              "      <td>40</td>\n",
              "      <td>0.205622</td>\n",
              "      <td>25</td>\n",
              "      <td>0</td>\n",
              "    </tr>\n",
              "    <tr>\n",
              "      <th>4</th>\n",
              "      <td>40</td>\n",
              "      <td>0.205622</td>\n",
              "      <td>31</td>\n",
              "      <td>0</td>\n",
              "    </tr>\n",
              "    <tr>\n",
              "      <th>...</th>\n",
              "      <td>...</td>\n",
              "      <td>...</td>\n",
              "      <td>...</td>\n",
              "      <td>...</td>\n",
              "    </tr>\n",
              "    <tr>\n",
              "      <th>11128045</th>\n",
              "      <td>36</td>\n",
              "      <td>0.327839</td>\n",
              "      <td>48</td>\n",
              "      <td>13091</td>\n",
              "    </tr>\n",
              "    <tr>\n",
              "      <th>11128046</th>\n",
              "      <td>36</td>\n",
              "      <td>0.327839</td>\n",
              "      <td>49</td>\n",
              "      <td>13091</td>\n",
              "    </tr>\n",
              "    <tr>\n",
              "      <th>11128047</th>\n",
              "      <td>36</td>\n",
              "      <td>0.327839</td>\n",
              "      <td>55</td>\n",
              "      <td>13091</td>\n",
              "    </tr>\n",
              "    <tr>\n",
              "      <th>11128048</th>\n",
              "      <td>36</td>\n",
              "      <td>0.327839</td>\n",
              "      <td>34</td>\n",
              "      <td>13091</td>\n",
              "    </tr>\n",
              "    <tr>\n",
              "      <th>11128049</th>\n",
              "      <td>36</td>\n",
              "      <td>0.327839</td>\n",
              "      <td>39</td>\n",
              "      <td>13091</td>\n",
              "    </tr>\n",
              "  </tbody>\n",
              "</table>\n",
              "<p>11128050 rows × 4 columns</p>\n",
              "</div>"
            ],
            "text/plain": [
              "          item_category_id  item_category_enc  shop_id  item_id\n",
              "0                       40           0.205622       54        0\n",
              "1                       40           0.205622       56        0\n",
              "2                       40           0.205622       44        0\n",
              "3                       40           0.205622       25        0\n",
              "4                       40           0.205622       31        0\n",
              "...                    ...                ...      ...      ...\n",
              "11128045                36           0.327839       48    13091\n",
              "11128046                36           0.327839       49    13091\n",
              "11128047                36           0.327839       55    13091\n",
              "11128048                36           0.327839       34    13091\n",
              "11128049                36           0.327839       39    13091\n",
              "\n",
              "[11128050 rows x 4 columns]"
            ]
          },
          "metadata": {
            "tags": []
          },
          "execution_count": 76
        }
      ]
    },
    {
      "cell_type": "markdown",
      "metadata": {
        "id": "0gHX1q6IYMk_"
      },
      "source": [
        "## Clipping target [0,20] + Lagging on train dataset"
      ]
    },
    {
      "cell_type": "code",
      "metadata": {
        "id": "UW2SJnDEYRUP"
      },
      "source": [
        "all_data[\"item_cnt_month\"].clip(0, 20, inplace=True)\n",
        "final_df = all_data\n",
        "#all_data[\"target_shop\"].clip(0, 20, inplace=True)\n",
        "#all_data[\"target_item\"].clip(0, 20, inplace=True)\n",
        "#all_data[\"target_category\"].clip(0, 20, inplace=True)\n",
        "#all_data[\"target_item_price\"].clip(0, 20, inplace=True)\n",
        "#all_data.columns"
      ],
      "execution_count": null,
      "outputs": []
    },
    {
      "cell_type": "code",
      "metadata": {
        "colab": {
          "base_uri": "https://localhost:8080/"
        },
        "id": "AlvqrUO5sdq0",
        "outputId": "1b74b7f6-5168-4ad1-cd69-f19600f32373"
      },
      "source": [
        "all_data.columns"
      ],
      "execution_count": null,
      "outputs": [
        {
          "output_type": "execute_result",
          "data": {
            "text/plain": [
              "Index(['shop_id', 'item_id', 'date_block_num', 'item_cnt_month',\n",
              "       'item_category_id', 'item_category_id_cnt_month_mean_Kfold'],\n",
              "      dtype='object')"
            ]
          },
          "metadata": {
            "tags": []
          },
          "execution_count": 28
        }
      ]
    },
    {
      "cell_type": "code",
      "metadata": {
        "colab": {
          "base_uri": "https://localhost:8080/",
          "height": 122,
          "referenced_widgets": [
            "98e883ff6e204807bc3c6a6ad0947b2e",
            "c765128a08c0491dbf8f0900c3ba3480",
            "251d660ebf414ac0adbde5e456df58ed",
            "1beb10c248ca401e9dfe7baf999fe8de",
            "1031ec73e1b84e5cbc26a8628735bc76",
            "8bcc62467d32420880fba66119d0de2b",
            "5941278595094925ab06d8c17d681a49",
            "835dd34c4bbf431ab332dec343ed4033"
          ]
        },
        "id": "mtjDLpzkYSri",
        "outputId": "fe1489f2-3adf-4fbb-ebfe-28811e0be937"
      },
      "source": [
        "#fit on all train dataset. \n",
        "#lags from [1, 2, 3, 4, 5, 12] months ago.\n",
        "\n",
        "index_cols = ['shop_id', 'item_id', 'date_block_num']\n",
        "cols_to_rename = [\"target\",\"shop_item_price\",\"item_sales\"]\n",
        "# List of columns that we will use to create lags\n",
        "half_data1 = all_data[['shop_id', 'item_id', 'date_block_num',\"target\",\"shop_item_price\",\"item_sales\"]]\n",
        "\n",
        "\n",
        "shift_range = [1, 2, 3, 4, 5, 12]\n",
        "\n",
        "for month_shift in tqdm_notebook(shift_range):\n",
        "    train_shift = all_data[index_cols + cols_to_rename].copy()\n",
        "    \n",
        "    train_shift['date_block_num'] = train_shift['date_block_num'] + month_shift\n",
        "    \n",
        "    foo = lambda x: '{}_lag_{}'.format(x, month_shift) if x in cols_to_rename else x\n",
        "    train_shift = train_shift.rename(columns=foo)\n",
        "\n",
        "    half_data1 = pd.merge(half_data1, train_shift, on=index_cols, how='left').fillna(0)\n",
        "\n",
        "del train_shift\n",
        "\n",
        "half_data1 = half_data1[half_data1['date_block_num'] >= 12]\n",
        "\n",
        "half_data1 = downcast_dtypes(half_data1)\n",
        "gc.collect();"
      ],
      "execution_count": null,
      "outputs": [
        {
          "output_type": "stream",
          "text": [
            "/usr/local/lib/python3.6/dist-packages/ipykernel_launcher.py:12: TqdmDeprecationWarning: This function will be removed in tqdm==5.0.0\n",
            "Please use `tqdm.notebook.tqdm` instead of `tqdm.tqdm_notebook`\n",
            "  if sys.path[0] == '':\n"
          ],
          "name": "stderr"
        },
        {
          "output_type": "display_data",
          "data": {
            "application/vnd.jupyter.widget-view+json": {
              "model_id": "98e883ff6e204807bc3c6a6ad0947b2e",
              "version_minor": 0,
              "version_major": 2
            },
            "text/plain": [
              "HBox(children=(FloatProgress(value=0.0, max=6.0), HTML(value='')))"
            ]
          },
          "metadata": {
            "tags": []
          }
        },
        {
          "output_type": "stream",
          "text": [
            "\n"
          ],
          "name": "stdout"
        }
      ]
    },
    {
      "cell_type": "code",
      "metadata": {
        "colab": {
          "base_uri": "https://localhost:8080/",
          "height": 122,
          "referenced_widgets": [
            "2827324e49d146959324731f5565df8c",
            "939c08f463eb481b9bdead57fb3779ef",
            "69b7785126ae4aef87fe9ab3e5a4fc94",
            "fc4e970d52d34c1b9adbbb4b151650de",
            "e56c2550b28d4fec9032b5070ce446c3",
            "408a70461ec24e0cb5298f772e82b6a2",
            "3e456dd1f61c460ea3a60b2b999ee1a4",
            "c21dab87171c4ae0ad24591281c96b91"
          ]
        },
        "id": "kSRJ4e3NYUUi",
        "outputId": "887df413-5668-4a4b-85c2-dace124b0d0e"
      },
      "source": [
        "#fit on all train dataset. \n",
        "#lags from [1, 2, 3, 4, 5, 12] months ago.\n",
        "\n",
        "index_cols = ['shop_id', 'item_id', 'date_block_num']\n",
        "\n",
        "cols_to_rename = [\"target_category\", \"it_price\"]\n",
        "half_data2 = all_data[['shop_id', 'item_id', 'date_block_num','item_category_id', 'item_category_enc',\"target_category\", \"it_price\"]]\n",
        "\n",
        "shift_range = [1, 2, 3, 4, 5, 12]\n",
        "\n",
        "for month_shift in tqdm_notebook(shift_range):\n",
        "    train_shift = all_data[index_cols + cols_to_rename].copy()\n",
        "    \n",
        "    train_shift['date_block_num'] = train_shift['date_block_num'] + month_shift\n",
        "    \n",
        "    foo = lambda x: '{}_lag_{}'.format(x, month_shift) if x in cols_to_rename else x\n",
        "    train_shift = train_shift.rename(columns=foo)\n",
        "\n",
        "    half_data2 = pd.merge(half_data2, train_shift, on=index_cols, how='left').fillna(0)\n",
        "\n",
        "del train_shift\n",
        "\n",
        "half_data2 = half_data2[half_data2['date_block_num'] >= 12]\n",
        "half_data2 = half_data2.drop(index_cols, axis=1)\n",
        "\n",
        "half_data2 = downcast_dtypes(half_data2)\n",
        "gc.collect();"
      ],
      "execution_count": null,
      "outputs": [
        {
          "output_type": "stream",
          "text": [
            "/usr/local/lib/python3.6/dist-packages/ipykernel_launcher.py:11: TqdmDeprecationWarning: This function will be removed in tqdm==5.0.0\n",
            "Please use `tqdm.notebook.tqdm` instead of `tqdm.tqdm_notebook`\n",
            "  # This is added back by InteractiveShellApp.init_path()\n"
          ],
          "name": "stderr"
        },
        {
          "output_type": "display_data",
          "data": {
            "application/vnd.jupyter.widget-view+json": {
              "model_id": "2827324e49d146959324731f5565df8c",
              "version_minor": 0,
              "version_major": 2
            },
            "text/plain": [
              "HBox(children=(FloatProgress(value=0.0, max=6.0), HTML(value='')))"
            ]
          },
          "metadata": {
            "tags": []
          }
        },
        {
          "output_type": "stream",
          "text": [
            "\n"
          ],
          "name": "stdout"
        }
      ]
    },
    {
      "cell_type": "code",
      "metadata": {
        "colab": {
          "base_uri": "https://localhost:8080/",
          "height": 226
        },
        "id": "TWH3uKMXYWS1",
        "outputId": "46292020-bcc7-4cab-f0b8-96d5c685f1d6"
      },
      "source": [
        "final_df = pd.concat([half_data1, half_data2], axis=1)\n",
        "final_df.head()\n",
        "#final_df.columns #revenue, revenue per shop, revenue per items and revenue per cat not presents. "
      ],
      "execution_count": null,
      "outputs": [
        {
          "output_type": "execute_result",
          "data": {
            "text/html": [
              "<div>\n",
              "<style scoped>\n",
              "    .dataframe tbody tr th:only-of-type {\n",
              "        vertical-align: middle;\n",
              "    }\n",
              "\n",
              "    .dataframe tbody tr th {\n",
              "        vertical-align: top;\n",
              "    }\n",
              "\n",
              "    .dataframe thead th {\n",
              "        text-align: right;\n",
              "    }\n",
              "</style>\n",
              "<table border=\"1\" class=\"dataframe\">\n",
              "  <thead>\n",
              "    <tr style=\"text-align: right;\">\n",
              "      <th></th>\n",
              "      <th>shop_id</th>\n",
              "      <th>item_id</th>\n",
              "      <th>date_block_num</th>\n",
              "      <th>target</th>\n",
              "      <th>shop_item_price</th>\n",
              "      <th>item_sales</th>\n",
              "      <th>target_lag_1</th>\n",
              "      <th>shop_item_price_lag_1</th>\n",
              "      <th>item_sales_lag_1</th>\n",
              "      <th>target_lag_2</th>\n",
              "      <th>shop_item_price_lag_2</th>\n",
              "      <th>item_sales_lag_2</th>\n",
              "      <th>target_lag_3</th>\n",
              "      <th>shop_item_price_lag_3</th>\n",
              "      <th>item_sales_lag_3</th>\n",
              "      <th>target_lag_4</th>\n",
              "      <th>shop_item_price_lag_4</th>\n",
              "      <th>item_sales_lag_4</th>\n",
              "      <th>target_lag_5</th>\n",
              "      <th>shop_item_price_lag_5</th>\n",
              "      <th>item_sales_lag_5</th>\n",
              "      <th>target_lag_12</th>\n",
              "      <th>shop_item_price_lag_12</th>\n",
              "      <th>item_sales_lag_12</th>\n",
              "      <th>item_category_id</th>\n",
              "      <th>item_category_enc</th>\n",
              "      <th>target_category</th>\n",
              "      <th>it_price</th>\n",
              "      <th>target_category_lag_1</th>\n",
              "      <th>it_price_lag_1</th>\n",
              "      <th>target_category_lag_2</th>\n",
              "      <th>it_price_lag_2</th>\n",
              "      <th>target_category_lag_3</th>\n",
              "      <th>it_price_lag_3</th>\n",
              "      <th>target_category_lag_4</th>\n",
              "      <th>it_price_lag_4</th>\n",
              "      <th>target_category_lag_5</th>\n",
              "      <th>it_price_lag_5</th>\n",
              "      <th>target_category_lag_12</th>\n",
              "      <th>it_price_lag_12</th>\n",
              "    </tr>\n",
              "  </thead>\n",
              "  <tbody>\n",
              "    <tr>\n",
              "      <th>0</th>\n",
              "      <td>54</td>\n",
              "      <td>0</td>\n",
              "      <td>20</td>\n",
              "      <td>1.0</td>\n",
              "      <td>58.0</td>\n",
              "      <td>1.0</td>\n",
              "      <td>0.0</td>\n",
              "      <td>0.0</td>\n",
              "      <td>0.0</td>\n",
              "      <td>0.0</td>\n",
              "      <td>0.0</td>\n",
              "      <td>0.0</td>\n",
              "      <td>0.0</td>\n",
              "      <td>0.0</td>\n",
              "      <td>0.0</td>\n",
              "      <td>0.0</td>\n",
              "      <td>0.0</td>\n",
              "      <td>0.0</td>\n",
              "      <td>0.0</td>\n",
              "      <td>0.0</td>\n",
              "      <td>0.0</td>\n",
              "      <td>0.0</td>\n",
              "      <td>0.0</td>\n",
              "      <td>0.0</td>\n",
              "      <td>40</td>\n",
              "      <td>0.205622</td>\n",
              "      <td>3.930126</td>\n",
              "      <td>58.0</td>\n",
              "      <td>0.0</td>\n",
              "      <td>0.0</td>\n",
              "      <td>0.0</td>\n",
              "      <td>0.0</td>\n",
              "      <td>0.0</td>\n",
              "      <td>0.0</td>\n",
              "      <td>0.0</td>\n",
              "      <td>0.0</td>\n",
              "      <td>0.0</td>\n",
              "      <td>0.0</td>\n",
              "      <td>0.0</td>\n",
              "      <td>0.0</td>\n",
              "    </tr>\n",
              "    <tr>\n",
              "      <th>1</th>\n",
              "      <td>56</td>\n",
              "      <td>0</td>\n",
              "      <td>20</td>\n",
              "      <td>0.0</td>\n",
              "      <td>0.0</td>\n",
              "      <td>1.0</td>\n",
              "      <td>0.0</td>\n",
              "      <td>0.0</td>\n",
              "      <td>0.0</td>\n",
              "      <td>0.0</td>\n",
              "      <td>0.0</td>\n",
              "      <td>0.0</td>\n",
              "      <td>0.0</td>\n",
              "      <td>0.0</td>\n",
              "      <td>0.0</td>\n",
              "      <td>0.0</td>\n",
              "      <td>0.0</td>\n",
              "      <td>0.0</td>\n",
              "      <td>0.0</td>\n",
              "      <td>0.0</td>\n",
              "      <td>0.0</td>\n",
              "      <td>0.0</td>\n",
              "      <td>0.0</td>\n",
              "      <td>0.0</td>\n",
              "      <td>40</td>\n",
              "      <td>0.205622</td>\n",
              "      <td>3.930126</td>\n",
              "      <td>58.0</td>\n",
              "      <td>0.0</td>\n",
              "      <td>0.0</td>\n",
              "      <td>0.0</td>\n",
              "      <td>0.0</td>\n",
              "      <td>0.0</td>\n",
              "      <td>0.0</td>\n",
              "      <td>0.0</td>\n",
              "      <td>0.0</td>\n",
              "      <td>0.0</td>\n",
              "      <td>0.0</td>\n",
              "      <td>0.0</td>\n",
              "      <td>0.0</td>\n",
              "    </tr>\n",
              "    <tr>\n",
              "      <th>2</th>\n",
              "      <td>44</td>\n",
              "      <td>0</td>\n",
              "      <td>20</td>\n",
              "      <td>0.0</td>\n",
              "      <td>0.0</td>\n",
              "      <td>1.0</td>\n",
              "      <td>0.0</td>\n",
              "      <td>0.0</td>\n",
              "      <td>0.0</td>\n",
              "      <td>0.0</td>\n",
              "      <td>0.0</td>\n",
              "      <td>0.0</td>\n",
              "      <td>0.0</td>\n",
              "      <td>0.0</td>\n",
              "      <td>0.0</td>\n",
              "      <td>0.0</td>\n",
              "      <td>0.0</td>\n",
              "      <td>0.0</td>\n",
              "      <td>0.0</td>\n",
              "      <td>0.0</td>\n",
              "      <td>0.0</td>\n",
              "      <td>0.0</td>\n",
              "      <td>0.0</td>\n",
              "      <td>0.0</td>\n",
              "      <td>40</td>\n",
              "      <td>0.205622</td>\n",
              "      <td>3.930126</td>\n",
              "      <td>58.0</td>\n",
              "      <td>0.0</td>\n",
              "      <td>0.0</td>\n",
              "      <td>0.0</td>\n",
              "      <td>0.0</td>\n",
              "      <td>0.0</td>\n",
              "      <td>0.0</td>\n",
              "      <td>0.0</td>\n",
              "      <td>0.0</td>\n",
              "      <td>0.0</td>\n",
              "      <td>0.0</td>\n",
              "      <td>0.0</td>\n",
              "      <td>0.0</td>\n",
              "    </tr>\n",
              "    <tr>\n",
              "      <th>3</th>\n",
              "      <td>25</td>\n",
              "      <td>0</td>\n",
              "      <td>20</td>\n",
              "      <td>0.0</td>\n",
              "      <td>0.0</td>\n",
              "      <td>1.0</td>\n",
              "      <td>0.0</td>\n",
              "      <td>0.0</td>\n",
              "      <td>0.0</td>\n",
              "      <td>0.0</td>\n",
              "      <td>0.0</td>\n",
              "      <td>0.0</td>\n",
              "      <td>0.0</td>\n",
              "      <td>0.0</td>\n",
              "      <td>0.0</td>\n",
              "      <td>0.0</td>\n",
              "      <td>0.0</td>\n",
              "      <td>0.0</td>\n",
              "      <td>0.0</td>\n",
              "      <td>0.0</td>\n",
              "      <td>0.0</td>\n",
              "      <td>0.0</td>\n",
              "      <td>0.0</td>\n",
              "      <td>0.0</td>\n",
              "      <td>40</td>\n",
              "      <td>0.205622</td>\n",
              "      <td>3.930126</td>\n",
              "      <td>58.0</td>\n",
              "      <td>0.0</td>\n",
              "      <td>0.0</td>\n",
              "      <td>0.0</td>\n",
              "      <td>0.0</td>\n",
              "      <td>0.0</td>\n",
              "      <td>0.0</td>\n",
              "      <td>0.0</td>\n",
              "      <td>0.0</td>\n",
              "      <td>0.0</td>\n",
              "      <td>0.0</td>\n",
              "      <td>0.0</td>\n",
              "      <td>0.0</td>\n",
              "    </tr>\n",
              "    <tr>\n",
              "      <th>4</th>\n",
              "      <td>31</td>\n",
              "      <td>0</td>\n",
              "      <td>20</td>\n",
              "      <td>0.0</td>\n",
              "      <td>0.0</td>\n",
              "      <td>1.0</td>\n",
              "      <td>0.0</td>\n",
              "      <td>0.0</td>\n",
              "      <td>0.0</td>\n",
              "      <td>0.0</td>\n",
              "      <td>0.0</td>\n",
              "      <td>0.0</td>\n",
              "      <td>0.0</td>\n",
              "      <td>0.0</td>\n",
              "      <td>0.0</td>\n",
              "      <td>0.0</td>\n",
              "      <td>0.0</td>\n",
              "      <td>0.0</td>\n",
              "      <td>0.0</td>\n",
              "      <td>0.0</td>\n",
              "      <td>0.0</td>\n",
              "      <td>0.0</td>\n",
              "      <td>0.0</td>\n",
              "      <td>0.0</td>\n",
              "      <td>40</td>\n",
              "      <td>0.205622</td>\n",
              "      <td>3.930126</td>\n",
              "      <td>58.0</td>\n",
              "      <td>0.0</td>\n",
              "      <td>0.0</td>\n",
              "      <td>0.0</td>\n",
              "      <td>0.0</td>\n",
              "      <td>0.0</td>\n",
              "      <td>0.0</td>\n",
              "      <td>0.0</td>\n",
              "      <td>0.0</td>\n",
              "      <td>0.0</td>\n",
              "      <td>0.0</td>\n",
              "      <td>0.0</td>\n",
              "      <td>0.0</td>\n",
              "    </tr>\n",
              "  </tbody>\n",
              "</table>\n",
              "</div>"
            ],
            "text/plain": [
              "   shop_id  item_id  ...  target_category_lag_12  it_price_lag_12\n",
              "0       54        0  ...                     0.0              0.0\n",
              "1       56        0  ...                     0.0              0.0\n",
              "2       44        0  ...                     0.0              0.0\n",
              "3       25        0  ...                     0.0              0.0\n",
              "4       31        0  ...                     0.0              0.0\n",
              "\n",
              "[5 rows x 40 columns]"
            ]
          },
          "metadata": {
            "tags": []
          },
          "execution_count": 87
        }
      ]
    },
    {
      "cell_type": "markdown",
      "metadata": {
        "id": "6szu8ie1YYvA"
      },
      "source": [
        "## Predict on original train dataset (with lags) :  linearreg and LGBM"
      ]
    },
    {
      "cell_type": "code",
      "metadata": {
        "colab": {
          "base_uri": "https://localhost:8080/"
        },
        "id": "ds7ACUO1YhsA",
        "outputId": "ae84a4d8-6b15-4c11-a8ea-315663a4144e"
      },
      "source": [
        "# Save `date_block_num`, as we can't use them as features, but will need them to split the dataset into parts \n",
        "dates = final_df['date_block_num']\n",
        "\n",
        "last_block = dates.max()\n",
        "print('Test `date_block_num` is %d' % last_block)"
      ],
      "execution_count": null,
      "outputs": [
        {
          "output_type": "stream",
          "text": [
            "Test `date_block_num` is 33\n"
          ],
          "name": "stdout"
        }
      ]
    },
    {
      "cell_type": "code",
      "metadata": {
        "id": "a-g5O82PYi_q"
      },
      "source": [
        "# List of all lagged features\n",
        "fit_cols = [col for col in final_df.columns if col[-1] in [str(item) for item in shift_range]] \n",
        "# We will drop these at fitting stage\n",
        "to_drop_cols = list(set(list(final_df.columns)) - (set(fit_cols)|set(index_cols))) + ['date_block_num']\n",
        "\n",
        "dates_train = dates[dates <  last_block]\n",
        "dates_test  = dates[dates == last_block]\n",
        "\n",
        "X_train = final_df.loc[dates <  last_block].drop(to_drop_cols, axis=1)\n",
        "X_test =  final_df.loc[dates == last_block].drop(to_drop_cols, axis=1)\n",
        "\n",
        "y_train = final_df.loc[dates <  last_block, 'target'].values\n",
        "y_test =  final_df.loc[dates == last_block, 'target'].values"
      ],
      "execution_count": null,
      "outputs": []
    },
    {
      "cell_type": "code",
      "metadata": {
        "colab": {
          "base_uri": "https://localhost:8080/"
        },
        "id": "4I70pz_Otoeo",
        "outputId": "6703a372-438f-4049-f144-3e1232d8eb0f"
      },
      "source": [
        "#columns_list = ['shop_id', 'item_id', 'target', 'shop_item_price', 'item_sales', 'target_category', 'it_price'] #here keep data block num for predictions. \n",
        "columns_list = ['date_block_num', 'item_cnt_month', 'shop_item_price', 'it_price', 'item_sales', \"item_sales_by_category\"] \n",
        "#columns_list1 = ['item_cnt_month', 'shop_item_price', 'it_price', 'item_sales', \"item_category_id_cnt_month_mean_Kfold\"]\n",
        "all_data.columns\n"
      ],
      "execution_count": null,
      "outputs": [
        {
          "output_type": "execute_result",
          "data": {
            "text/plain": [
              "Index(['item_id', 'item_category_id', 'shop_id', 'date_block_num',\n",
              "       'item_cnt_month', 'shop_item_price', 'it_price', 'item_sales',\n",
              "       'item_sales_by_category', 'item_category_id_cnt_month_mean_Kfold',\n",
              "       'it_price_lag_1', 'item_category_id_cnt_month_mean_Kfold_lag_1',\n",
              "       'item_cnt_month_lag_1', 'item_sales_lag_1',\n",
              "       'item_sales_by_category_lag_1', 'shop_item_price_lag_1',\n",
              "       'it_price_lag_2', 'item_category_id_cnt_month_mean_Kfold_lag_2',\n",
              "       'item_cnt_month_lag_2', 'item_sales_lag_2',\n",
              "       'item_sales_by_category_lag_2', 'shop_item_price_lag_2',\n",
              "       'it_price_lag_3', 'item_category_id_cnt_month_mean_Kfold_lag_3',\n",
              "       'item_cnt_month_lag_3', 'item_sales_lag_3',\n",
              "       'item_sales_by_category_lag_3', 'shop_item_price_lag_3',\n",
              "       'it_price_lag_4', 'item_category_id_cnt_month_mean_Kfold_lag_4',\n",
              "       'item_cnt_month_lag_4', 'item_sales_lag_4',\n",
              "       'item_sales_by_category_lag_4', 'shop_item_price_lag_4',\n",
              "       'it_price_lag_12', 'item_category_id_cnt_month_mean_Kfold_lag_12',\n",
              "       'item_cnt_month_lag_12', 'item_sales_lag_12',\n",
              "       'item_sales_by_category_lag_12', 'shop_item_price_lag_12'],\n",
              "      dtype='object')"
            ]
          },
          "metadata": {
            "tags": []
          },
          "execution_count": 174
        }
      ]
    },
    {
      "cell_type": "code",
      "metadata": {
        "colab": {
          "base_uri": "https://localhost:8080/"
        },
        "id": "aZZh85NxlHus",
        "outputId": "07c74d84-52a0-4e83-ac82-bfdcac5caead"
      },
      "source": [
        "# à partir du lag dans les x_train, x_val et x_test sur cnt_month_lag on préditle cnt_month à venir. \n",
        "\n",
        "train_df_mask = all_data[\"date_block_num\"] < 33\n",
        "x_train = all_data[train_df_mask]\n",
        "x_train = x_train[x_train.columns.difference(columns_list)]\n",
        "y_train = all_data[\"item_cnt_month\"][train_df_mask]\n",
        "\n",
        "\n",
        "val_df_mask = all_data[\"date_block_num\"] == 33\n",
        "x_val = all_data[val_df_mask]\n",
        "x_val = x_val[x_val.columns.difference(columns_list)]\n",
        "y_val = all_data[\"item_cnt_month\"][val_df_mask]\n",
        "\n",
        "test_df_mask = all_data[\"date_block_num\"] == 34\n",
        "x_test = all_data[test_df_mask]\n",
        "x_test = x_test[x_test.columns.difference(columns_list)]\n",
        "\n",
        "print(x_train.shape)\n",
        "print(y_train.shape)\n",
        "print(x_val.shape)\n",
        "print(y_val.shape)\n",
        "print(x_test.shape)"
      ],
      "execution_count": null,
      "outputs": [
        {
          "output_type": "stream",
          "text": [
            "(6186922, 34)\n",
            "(6186922,)\n",
            "(238172, 34)\n",
            "(238172,)\n",
            "(214200, 34)\n"
          ],
          "name": "stdout"
        }
      ]
    },
    {
      "cell_type": "code",
      "metadata": {
        "colab": {
          "base_uri": "https://localhost:8080/",
          "height": 243
        },
        "id": "66Zy04WIYmKi",
        "outputId": "a3c9efda-69a5-4ecf-e5be-a73121b0534c"
      },
      "source": [
        "lr = LinearRegression()\n",
        "lr.fit(X_train.values, y_train)\n",
        "pred_lr = lr.predict(X_test.values)\n",
        "\n",
        "print('Test R-squared for linreg is %f' % r2_score(y_test, pred_lr))"
      ],
      "execution_count": null,
      "outputs": [
        {
          "output_type": "error",
          "ename": "NameError",
          "evalue": "ignored",
          "traceback": [
            "\u001b[0;31m---------------------------------------------------------------------------\u001b[0m",
            "\u001b[0;31mNameError\u001b[0m                                 Traceback (most recent call last)",
            "\u001b[0;32m<ipython-input-84-b36216e90a04>\u001b[0m in \u001b[0;36m<module>\u001b[0;34m()\u001b[0m\n\u001b[1;32m      1\u001b[0m \u001b[0mlr\u001b[0m \u001b[0;34m=\u001b[0m \u001b[0mLinearRegression\u001b[0m\u001b[0;34m(\u001b[0m\u001b[0;34m)\u001b[0m\u001b[0;34m\u001b[0m\u001b[0;34m\u001b[0m\u001b[0m\n\u001b[0;32m----> 2\u001b[0;31m \u001b[0mlr\u001b[0m\u001b[0;34m.\u001b[0m\u001b[0mfit\u001b[0m\u001b[0;34m(\u001b[0m\u001b[0mX_train\u001b[0m\u001b[0;34m.\u001b[0m\u001b[0mvalues\u001b[0m\u001b[0;34m,\u001b[0m \u001b[0my_train\u001b[0m\u001b[0;34m)\u001b[0m\u001b[0;34m\u001b[0m\u001b[0;34m\u001b[0m\u001b[0m\n\u001b[0m\u001b[1;32m      3\u001b[0m \u001b[0mpred_lr\u001b[0m \u001b[0;34m=\u001b[0m \u001b[0mlr\u001b[0m\u001b[0;34m.\u001b[0m\u001b[0mpredict\u001b[0m\u001b[0;34m(\u001b[0m\u001b[0mX_test\u001b[0m\u001b[0;34m.\u001b[0m\u001b[0mvalues\u001b[0m\u001b[0;34m)\u001b[0m\u001b[0;34m\u001b[0m\u001b[0;34m\u001b[0m\u001b[0m\n\u001b[1;32m      4\u001b[0m \u001b[0;34m\u001b[0m\u001b[0m\n\u001b[1;32m      5\u001b[0m \u001b[0mprint\u001b[0m\u001b[0;34m(\u001b[0m\u001b[0;34m'Test R-squared for linreg is %f'\u001b[0m \u001b[0;34m%\u001b[0m \u001b[0mr2_score\u001b[0m\u001b[0;34m(\u001b[0m\u001b[0my_test\u001b[0m\u001b[0;34m,\u001b[0m \u001b[0mpred_lr\u001b[0m\u001b[0;34m)\u001b[0m\u001b[0;34m)\u001b[0m\u001b[0;34m\u001b[0m\u001b[0;34m\u001b[0m\u001b[0m\n",
            "\u001b[0;31mNameError\u001b[0m: name 'X_train' is not defined"
          ]
        }
      ]
    },
    {
      "cell_type": "code",
      "metadata": {
        "id": "phU8epnMY8ZK"
      },
      "source": [
        "from sklearn.metrics import mean_squared_error as RMSE \n",
        "\n",
        "lgb_params = {\n",
        "               'feature_fraction': 0.75,\n",
        "               'metric': 'rmse',\n",
        "               'nthread':1, \n",
        "               'min_data_in_leaf': 2**7, \n",
        "               'bagging_fraction': 0.75, \n",
        "               'learning_rate': 0.03, \n",
        "               'objective': 'mse', \n",
        "               'bagging_seed': 2**7, \n",
        "               'num_leaves': 2**7,\n",
        "               'bagging_freq':1,\n",
        "               'verbose':0 \n",
        "              }\n",
        "\n",
        "model = lgb.train(lgb_params, lgb.Dataset(x_train, label=y_train), 100)\n",
        "model.scoring(x_val, y_val, x_train, y_train)\n",
        "\n",
        "print('Test RMSE for LightGBM is %f' % RMSE(y_val, pred_lgb))\n",
        "#print('Test R-squared for LightGBM is %f' % r2_score(y_test, pred_lgb))"
      ],
      "execution_count": null,
      "outputs": []
    },
    {
      "cell_type": "code",
      "metadata": {
        "colab": {
          "base_uri": "https://localhost:8080/"
        },
        "id": "vUt37sbRJ12l",
        "outputId": "f694a1b9-6729-4165-f09a-b4206116af04"
      },
      "source": [
        "import lightgbm as lgb\n",
        "\n",
        "lgb_train=lgb.Dataset(x_train,y_train)\n",
        "lgb_val=lgb.Dataset(x_val,y_val)\n",
        "model = lgb.train(lgb_params, lgb_train, valid_sets=[lgb_val])\n"
      ],
      "execution_count": null,
      "outputs": [
        {
          "output_type": "stream",
          "text": [
            "[1]\tvalid_0's rmse: 1.12563\n",
            "[2]\tvalid_0's rmse: 1.11469\n",
            "[3]\tvalid_0's rmse: 1.10358\n",
            "[4]\tvalid_0's rmse: 1.09342\n",
            "[5]\tvalid_0's rmse: 1.0838\n",
            "[6]\tvalid_0's rmse: 1.07461\n",
            "[7]\tvalid_0's rmse: 1.06589\n",
            "[8]\tvalid_0's rmse: 1.05767\n",
            "[9]\tvalid_0's rmse: 1.04965\n",
            "[10]\tvalid_0's rmse: 1.04207\n",
            "[11]\tvalid_0's rmse: 1.03472\n",
            "[12]\tvalid_0's rmse: 1.02809\n",
            "[13]\tvalid_0's rmse: 1.022\n",
            "[14]\tvalid_0's rmse: 1.0167\n",
            "[15]\tvalid_0's rmse: 1.01112\n",
            "[16]\tvalid_0's rmse: 1.00589\n",
            "[17]\tvalid_0's rmse: 1.00106\n",
            "[18]\tvalid_0's rmse: 0.996159\n",
            "[19]\tvalid_0's rmse: 0.991939\n",
            "[20]\tvalid_0's rmse: 0.988103\n",
            "[21]\tvalid_0's rmse: 0.984002\n",
            "[22]\tvalid_0's rmse: 0.980157\n",
            "[23]\tvalid_0's rmse: 0.976725\n",
            "[24]\tvalid_0's rmse: 0.973642\n",
            "[25]\tvalid_0's rmse: 0.970985\n",
            "[26]\tvalid_0's rmse: 0.968525\n",
            "[27]\tvalid_0's rmse: 0.966222\n",
            "[28]\tvalid_0's rmse: 0.963821\n",
            "[29]\tvalid_0's rmse: 0.961499\n",
            "[30]\tvalid_0's rmse: 0.959774\n",
            "[31]\tvalid_0's rmse: 0.958001\n",
            "[32]\tvalid_0's rmse: 0.95627\n",
            "[33]\tvalid_0's rmse: 0.955058\n",
            "[34]\tvalid_0's rmse: 0.953479\n",
            "[35]\tvalid_0's rmse: 0.951857\n",
            "[36]\tvalid_0's rmse: 0.95032\n",
            "[37]\tvalid_0's rmse: 0.948847\n",
            "[38]\tvalid_0's rmse: 0.948242\n",
            "[39]\tvalid_0's rmse: 0.94693\n",
            "[40]\tvalid_0's rmse: 0.946396\n",
            "[41]\tvalid_0's rmse: 0.945399\n",
            "[42]\tvalid_0's rmse: 0.944728\n",
            "[43]\tvalid_0's rmse: 0.943795\n",
            "[44]\tvalid_0's rmse: 0.943395\n",
            "[45]\tvalid_0's rmse: 0.943052\n",
            "[46]\tvalid_0's rmse: 0.942975\n",
            "[47]\tvalid_0's rmse: 0.942776\n",
            "[48]\tvalid_0's rmse: 0.942734\n",
            "[49]\tvalid_0's rmse: 0.942768\n",
            "[50]\tvalid_0's rmse: 0.942864\n",
            "[51]\tvalid_0's rmse: 0.942866\n",
            "[52]\tvalid_0's rmse: 0.942134\n",
            "[53]\tvalid_0's rmse: 0.942286\n",
            "[54]\tvalid_0's rmse: 0.941974\n",
            "[55]\tvalid_0's rmse: 0.94147\n",
            "[56]\tvalid_0's rmse: 0.940945\n",
            "[57]\tvalid_0's rmse: 0.940477\n",
            "[58]\tvalid_0's rmse: 0.940313\n",
            "[59]\tvalid_0's rmse: 0.940658\n",
            "[60]\tvalid_0's rmse: 0.941042\n",
            "[61]\tvalid_0's rmse: 0.940728\n",
            "[62]\tvalid_0's rmse: 0.940485\n",
            "[63]\tvalid_0's rmse: 0.940829\n",
            "[64]\tvalid_0's rmse: 0.941147\n",
            "[65]\tvalid_0's rmse: 0.941465\n",
            "[66]\tvalid_0's rmse: 0.942122\n",
            "[67]\tvalid_0's rmse: 0.94208\n",
            "[68]\tvalid_0's rmse: 0.94165\n",
            "[69]\tvalid_0's rmse: 0.941241\n",
            "[70]\tvalid_0's rmse: 0.941037\n",
            "[71]\tvalid_0's rmse: 0.94092\n",
            "[72]\tvalid_0's rmse: 0.940541\n",
            "[73]\tvalid_0's rmse: 0.940518\n",
            "[74]\tvalid_0's rmse: 0.940578\n",
            "[75]\tvalid_0's rmse: 0.940549\n",
            "[76]\tvalid_0's rmse: 0.940283\n",
            "[77]\tvalid_0's rmse: 0.940071\n",
            "[78]\tvalid_0's rmse: 0.939933\n",
            "[79]\tvalid_0's rmse: 0.93983\n",
            "[80]\tvalid_0's rmse: 0.939879\n",
            "[81]\tvalid_0's rmse: 0.940614\n",
            "[82]\tvalid_0's rmse: 0.940767\n",
            "[83]\tvalid_0's rmse: 0.940577\n",
            "[84]\tvalid_0's rmse: 0.940585\n",
            "[85]\tvalid_0's rmse: 0.940321\n",
            "[86]\tvalid_0's rmse: 0.940445\n",
            "[87]\tvalid_0's rmse: 0.940577\n",
            "[88]\tvalid_0's rmse: 0.94042\n",
            "[89]\tvalid_0's rmse: 0.94024\n",
            "[90]\tvalid_0's rmse: 0.940212\n",
            "[91]\tvalid_0's rmse: 0.940312\n",
            "[92]\tvalid_0's rmse: 0.940193\n",
            "[93]\tvalid_0's rmse: 0.940181\n",
            "[94]\tvalid_0's rmse: 0.939937\n",
            "[95]\tvalid_0's rmse: 0.940055\n",
            "[96]\tvalid_0's rmse: 0.939898\n",
            "[97]\tvalid_0's rmse: 0.940102\n",
            "[98]\tvalid_0's rmse: 0.94043\n",
            "[99]\tvalid_0's rmse: 0.940304\n",
            "[100]\tvalid_0's rmse: 0.940322\n"
          ],
          "name": "stdout"
        }
      ]
    },
    {
      "cell_type": "code",
      "metadata": {
        "id": "T0cAmu1TH995"
      },
      "source": [
        "#pred_lgb = model.predict(x_test).clip(0,20)\n",
        "pred_lgb = model.predict(x_test)"
      ],
      "execution_count": null,
      "outputs": []
    },
    {
      "cell_type": "code",
      "metadata": {
        "id": "dhyHpnK23fKs"
      },
      "source": [
        "# Create the submission file and submit\n",
        "preds = pd.DataFrame(pred_lgb, columns=['item_cnt_month'])\n",
        "preds.to_csv('submission.csv',index_label='ID')\n"
      ],
      "execution_count": null,
      "outputs": []
    },
    {
      "cell_type": "code",
      "metadata": {
        "colab": {
          "base_uri": "https://localhost:8080/",
          "height": 17
        },
        "id": "kRf8I7Ro7VZk",
        "outputId": "deee02e7-ea23-45cd-a76e-85a63d96a2b8"
      },
      "source": [
        "from google.colab import files\n",
        "files.download(\"submission.csv\")"
      ],
      "execution_count": null,
      "outputs": [
        {
          "output_type": "display_data",
          "data": {
            "application/javascript": [
              "\n",
              "    async function download(id, filename, size) {\n",
              "      if (!google.colab.kernel.accessAllowed) {\n",
              "        return;\n",
              "      }\n",
              "      const div = document.createElement('div');\n",
              "      const label = document.createElement('label');\n",
              "      label.textContent = `Downloading \"${filename}\": `;\n",
              "      div.appendChild(label);\n",
              "      const progress = document.createElement('progress');\n",
              "      progress.max = size;\n",
              "      div.appendChild(progress);\n",
              "      document.body.appendChild(div);\n",
              "\n",
              "      const buffers = [];\n",
              "      let downloaded = 0;\n",
              "\n",
              "      const channel = await google.colab.kernel.comms.open(id);\n",
              "      // Send a message to notify the kernel that we're ready.\n",
              "      channel.send({})\n",
              "\n",
              "      for await (const message of channel.messages) {\n",
              "        // Send a message to notify the kernel that we're ready.\n",
              "        channel.send({})\n",
              "        if (message.buffers) {\n",
              "          for (const buffer of message.buffers) {\n",
              "            buffers.push(buffer);\n",
              "            downloaded += buffer.byteLength;\n",
              "            progress.value = downloaded;\n",
              "          }\n",
              "        }\n",
              "      }\n",
              "      const blob = new Blob(buffers, {type: 'application/binary'});\n",
              "      const a = document.createElement('a');\n",
              "      a.href = window.URL.createObjectURL(blob);\n",
              "      a.download = filename;\n",
              "      div.appendChild(a);\n",
              "      a.click();\n",
              "      div.remove();\n",
              "    }\n",
              "  "
            ],
            "text/plain": [
              "<IPython.core.display.Javascript object>"
            ]
          },
          "metadata": {
            "tags": []
          }
        },
        {
          "output_type": "display_data",
          "data": {
            "application/javascript": [
              "download(\"download_3c9efa73-d276-441c-b990-174e4861e298\", \"submission.csv\", 5634083)"
            ],
            "text/plain": [
              "<IPython.core.display.Javascript object>"
            ]
          },
          "metadata": {
            "tags": []
          }
        }
      ]
    },
    {
      "cell_type": "markdown",
      "metadata": {
        "id": "TXWIvXuo3XrA"
      },
      "source": [
        "## Complete solution \n",
        "## https://www.kaggle.com/c/competitive-data-science-predict-future-sales/discussion/74835\n"
      ]
    },
    {
      "cell_type": "markdown",
      "metadata": {
        "id": "qk8rkoUZAeOe"
      },
      "source": [
        "### Creating date features"
      ]
    },
    {
      "cell_type": "code",
      "metadata": {
        "id": "RLSHiXqO3SoE"
      },
      "source": [
        "# Creating date features\n",
        "\n",
        "train['date'] = pd.to_datetime(train['date'], format = '%d.%m.%Y')\n",
        "dates_train = train[['date', 'date_block_num']].drop_duplicates()"
      ],
      "execution_count": null,
      "outputs": []
    },
    {
      "cell_type": "code",
      "metadata": {
        "id": "UNTgAfoh4Ikc"
      },
      "source": [
        "dates_test = dates_train[dates_train['date_block_num'] == 34-12]\n"
      ],
      "execution_count": null,
      "outputs": []
    },
    {
      "cell_type": "code",
      "metadata": {
        "colab": {
          "base_uri": "https://localhost:8080/"
        },
        "id": "nJdrhIVs49V0",
        "outputId": "5a929d7f-1931-4fc7-a05d-9f711f9dddf3"
      },
      "source": [
        "dates_test['date_block_num'] = 34"
      ],
      "execution_count": null,
      "outputs": [
        {
          "output_type": "stream",
          "text": [
            "/usr/local/lib/python3.6/dist-packages/ipykernel_launcher.py:1: SettingWithCopyWarning: \n",
            "A value is trying to be set on a copy of a slice from a DataFrame.\n",
            "Try using .loc[row_indexer,col_indexer] = value instead\n",
            "\n",
            "See the caveats in the documentation: https://pandas.pydata.org/pandas-docs/stable/user_guide/indexing.html#returning-a-view-versus-a-copy\n",
            "  \"\"\"Entry point for launching an IPython kernel.\n"
          ],
          "name": "stderr"
        }
      ]
    },
    {
      "cell_type": "code",
      "metadata": {
        "colab": {
          "base_uri": "https://localhost:8080/"
        },
        "id": "UtLlI5-25BPP",
        "outputId": "50910424-a4d1-48b4-c67a-9ea859634656"
      },
      "source": [
        "dates_test['date'] = dates_test['date'] + pd.DateOffset(years=1)"
      ],
      "execution_count": null,
      "outputs": [
        {
          "output_type": "stream",
          "text": [
            "/usr/local/lib/python3.6/dist-packages/ipykernel_launcher.py:1: SettingWithCopyWarning: \n",
            "A value is trying to be set on a copy of a slice from a DataFrame.\n",
            "Try using .loc[row_indexer,col_indexer] = value instead\n",
            "\n",
            "See the caveats in the documentation: https://pandas.pydata.org/pandas-docs/stable/user_guide/indexing.html#returning-a-view-versus-a-copy\n",
            "  \"\"\"Entry point for launching an IPython kernel.\n"
          ],
          "name": "stderr"
        }
      ]
    },
    {
      "cell_type": "code",
      "metadata": {
        "id": "hAyjJs815Spp"
      },
      "source": [
        "dates_all = pd.concat([dates_train, dates_test])"
      ],
      "execution_count": null,
      "outputs": []
    },
    {
      "cell_type": "code",
      "metadata": {
        "id": "ulSWjM5Z5S4Q"
      },
      "source": [
        "dates_all['dow'] = dates_all['date'].dt.dayofweek\n",
        "dates_all['year'] = dates_all['date'].dt.year\n",
        "dates_all['month'] = dates_all['date'].dt.month"
      ],
      "execution_count": null,
      "outputs": []
    },
    {
      "cell_type": "code",
      "metadata": {
        "id": "0_w0L8cA5TGI"
      },
      "source": [
        "dates_all = pd.get_dummies(dates_all, columns=['dow'])"
      ],
      "execution_count": null,
      "outputs": []
    },
    {
      "cell_type": "code",
      "metadata": {
        "id": "Kth7NStm6cIt"
      },
      "source": [
        "dow_col = ['dow_' + str(x) for x in range(7)]"
      ],
      "execution_count": null,
      "outputs": []
    },
    {
      "cell_type": "code",
      "metadata": {
        "colab": {
          "base_uri": "https://localhost:8080/",
          "height": 206
        },
        "id": "UOvO9zmp6cX2",
        "outputId": "fb0276a5-c645-4f0d-8ee2-1da9a5e62b9c"
      },
      "source": [
        "date_features = dates_all.groupby(['year', 'month', 'date_block_num'])[dow_col].agg('sum').reset_index()\n",
        "date_features.head()"
      ],
      "execution_count": null,
      "outputs": [
        {
          "output_type": "execute_result",
          "data": {
            "text/html": [
              "<div>\n",
              "<style scoped>\n",
              "    .dataframe tbody tr th:only-of-type {\n",
              "        vertical-align: middle;\n",
              "    }\n",
              "\n",
              "    .dataframe tbody tr th {\n",
              "        vertical-align: top;\n",
              "    }\n",
              "\n",
              "    .dataframe thead th {\n",
              "        text-align: right;\n",
              "    }\n",
              "</style>\n",
              "<table border=\"1\" class=\"dataframe\">\n",
              "  <thead>\n",
              "    <tr style=\"text-align: right;\">\n",
              "      <th></th>\n",
              "      <th>year</th>\n",
              "      <th>month</th>\n",
              "      <th>date_block_num</th>\n",
              "      <th>dow_0</th>\n",
              "      <th>dow_1</th>\n",
              "      <th>dow_2</th>\n",
              "      <th>dow_3</th>\n",
              "      <th>dow_4</th>\n",
              "      <th>dow_5</th>\n",
              "      <th>dow_6</th>\n",
              "    </tr>\n",
              "  </thead>\n",
              "  <tbody>\n",
              "    <tr>\n",
              "      <th>0</th>\n",
              "      <td>2013</td>\n",
              "      <td>1</td>\n",
              "      <td>0</td>\n",
              "      <td>4</td>\n",
              "      <td>5</td>\n",
              "      <td>5</td>\n",
              "      <td>5</td>\n",
              "      <td>4</td>\n",
              "      <td>4</td>\n",
              "      <td>4</td>\n",
              "    </tr>\n",
              "    <tr>\n",
              "      <th>1</th>\n",
              "      <td>2013</td>\n",
              "      <td>2</td>\n",
              "      <td>1</td>\n",
              "      <td>4</td>\n",
              "      <td>4</td>\n",
              "      <td>4</td>\n",
              "      <td>4</td>\n",
              "      <td>4</td>\n",
              "      <td>4</td>\n",
              "      <td>4</td>\n",
              "    </tr>\n",
              "    <tr>\n",
              "      <th>2</th>\n",
              "      <td>2013</td>\n",
              "      <td>3</td>\n",
              "      <td>2</td>\n",
              "      <td>4</td>\n",
              "      <td>4</td>\n",
              "      <td>4</td>\n",
              "      <td>4</td>\n",
              "      <td>5</td>\n",
              "      <td>5</td>\n",
              "      <td>5</td>\n",
              "    </tr>\n",
              "    <tr>\n",
              "      <th>3</th>\n",
              "      <td>2013</td>\n",
              "      <td>4</td>\n",
              "      <td>3</td>\n",
              "      <td>5</td>\n",
              "      <td>5</td>\n",
              "      <td>4</td>\n",
              "      <td>4</td>\n",
              "      <td>4</td>\n",
              "      <td>4</td>\n",
              "      <td>4</td>\n",
              "    </tr>\n",
              "    <tr>\n",
              "      <th>4</th>\n",
              "      <td>2013</td>\n",
              "      <td>5</td>\n",
              "      <td>4</td>\n",
              "      <td>4</td>\n",
              "      <td>4</td>\n",
              "      <td>5</td>\n",
              "      <td>5</td>\n",
              "      <td>5</td>\n",
              "      <td>4</td>\n",
              "      <td>4</td>\n",
              "    </tr>\n",
              "  </tbody>\n",
              "</table>\n",
              "</div>"
            ],
            "text/plain": [
              "   year  month  date_block_num  dow_0  dow_1  dow_2  dow_3  dow_4  dow_5  dow_6\n",
              "0  2013      1               0      4      5      5      5      4      4      4\n",
              "1  2013      2               1      4      4      4      4      4      4      4\n",
              "2  2013      3               2      4      4      4      4      5      5      5\n",
              "3  2013      4               3      5      5      4      4      4      4      4\n",
              "4  2013      5               4      4      4      5      5      5      4      4"
            ]
          },
          "metadata": {
            "tags": []
          },
          "execution_count": 147
        }
      ]
    },
    {
      "cell_type": "code",
      "metadata": {
        "colab": {
          "base_uri": "https://localhost:8080/",
          "height": 206
        },
        "id": "oBJ00uwY6ck1",
        "outputId": "1ef2b5e8-a140-45b2-da1d-d81e18f400ff"
      },
      "source": [
        "date_features['days_of_month'] = date_features[dow_col].sum(axis=1)\n",
        "date_features.head()"
      ],
      "execution_count": null,
      "outputs": [
        {
          "output_type": "execute_result",
          "data": {
            "text/html": [
              "<div>\n",
              "<style scoped>\n",
              "    .dataframe tbody tr th:only-of-type {\n",
              "        vertical-align: middle;\n",
              "    }\n",
              "\n",
              "    .dataframe tbody tr th {\n",
              "        vertical-align: top;\n",
              "    }\n",
              "\n",
              "    .dataframe thead th {\n",
              "        text-align: right;\n",
              "    }\n",
              "</style>\n",
              "<table border=\"1\" class=\"dataframe\">\n",
              "  <thead>\n",
              "    <tr style=\"text-align: right;\">\n",
              "      <th></th>\n",
              "      <th>year</th>\n",
              "      <th>month</th>\n",
              "      <th>date_block_num</th>\n",
              "      <th>dow_0</th>\n",
              "      <th>dow_1</th>\n",
              "      <th>dow_2</th>\n",
              "      <th>dow_3</th>\n",
              "      <th>dow_4</th>\n",
              "      <th>dow_5</th>\n",
              "      <th>dow_6</th>\n",
              "      <th>days_of_month</th>\n",
              "    </tr>\n",
              "  </thead>\n",
              "  <tbody>\n",
              "    <tr>\n",
              "      <th>0</th>\n",
              "      <td>2013</td>\n",
              "      <td>1</td>\n",
              "      <td>0</td>\n",
              "      <td>4</td>\n",
              "      <td>5</td>\n",
              "      <td>5</td>\n",
              "      <td>5</td>\n",
              "      <td>4</td>\n",
              "      <td>4</td>\n",
              "      <td>4</td>\n",
              "      <td>31</td>\n",
              "    </tr>\n",
              "    <tr>\n",
              "      <th>1</th>\n",
              "      <td>2013</td>\n",
              "      <td>2</td>\n",
              "      <td>1</td>\n",
              "      <td>4</td>\n",
              "      <td>4</td>\n",
              "      <td>4</td>\n",
              "      <td>4</td>\n",
              "      <td>4</td>\n",
              "      <td>4</td>\n",
              "      <td>4</td>\n",
              "      <td>28</td>\n",
              "    </tr>\n",
              "    <tr>\n",
              "      <th>2</th>\n",
              "      <td>2013</td>\n",
              "      <td>3</td>\n",
              "      <td>2</td>\n",
              "      <td>4</td>\n",
              "      <td>4</td>\n",
              "      <td>4</td>\n",
              "      <td>4</td>\n",
              "      <td>5</td>\n",
              "      <td>5</td>\n",
              "      <td>5</td>\n",
              "      <td>31</td>\n",
              "    </tr>\n",
              "    <tr>\n",
              "      <th>3</th>\n",
              "      <td>2013</td>\n",
              "      <td>4</td>\n",
              "      <td>3</td>\n",
              "      <td>5</td>\n",
              "      <td>5</td>\n",
              "      <td>4</td>\n",
              "      <td>4</td>\n",
              "      <td>4</td>\n",
              "      <td>4</td>\n",
              "      <td>4</td>\n",
              "      <td>30</td>\n",
              "    </tr>\n",
              "    <tr>\n",
              "      <th>4</th>\n",
              "      <td>2013</td>\n",
              "      <td>5</td>\n",
              "      <td>4</td>\n",
              "      <td>4</td>\n",
              "      <td>4</td>\n",
              "      <td>5</td>\n",
              "      <td>5</td>\n",
              "      <td>5</td>\n",
              "      <td>4</td>\n",
              "      <td>4</td>\n",
              "      <td>31</td>\n",
              "    </tr>\n",
              "  </tbody>\n",
              "</table>\n",
              "</div>"
            ],
            "text/plain": [
              "   year  month  date_block_num  dow_0  ...  dow_4  dow_5  dow_6  days_of_month\n",
              "0  2013      1               0      4  ...      4      4      4             31\n",
              "1  2013      2               1      4  ...      4      4      4             28\n",
              "2  2013      3               2      4  ...      5      5      5             31\n",
              "3  2013      4               3      5  ...      4      4      4             30\n",
              "4  2013      5               4      4  ...      5      4      4             31\n",
              "\n",
              "[5 rows x 11 columns]"
            ]
          },
          "metadata": {
            "tags": []
          },
          "execution_count": 148
        }
      ]
    },
    {
      "cell_type": "code",
      "metadata": {
        "id": "M5OYD-ft7Q6R"
      },
      "source": [
        "date_features['year'] = date_features['year'] - 2013"
      ],
      "execution_count": null,
      "outputs": []
    },
    {
      "cell_type": "code",
      "metadata": {
        "colab": {
          "base_uri": "https://localhost:8080/",
          "height": 206
        },
        "id": "EeFduQuY7Xc5",
        "outputId": "d69e75d7-a473-4955-b4a0-8e0707c02ce8"
      },
      "source": [
        "date_features = date_features[['month', 'year', 'days_of_month', 'date_block_num']]\n",
        "date_features.head()"
      ],
      "execution_count": null,
      "outputs": [
        {
          "output_type": "execute_result",
          "data": {
            "text/html": [
              "<div>\n",
              "<style scoped>\n",
              "    .dataframe tbody tr th:only-of-type {\n",
              "        vertical-align: middle;\n",
              "    }\n",
              "\n",
              "    .dataframe tbody tr th {\n",
              "        vertical-align: top;\n",
              "    }\n",
              "\n",
              "    .dataframe thead th {\n",
              "        text-align: right;\n",
              "    }\n",
              "</style>\n",
              "<table border=\"1\" class=\"dataframe\">\n",
              "  <thead>\n",
              "    <tr style=\"text-align: right;\">\n",
              "      <th></th>\n",
              "      <th>month</th>\n",
              "      <th>year</th>\n",
              "      <th>days_of_month</th>\n",
              "      <th>date_block_num</th>\n",
              "    </tr>\n",
              "  </thead>\n",
              "  <tbody>\n",
              "    <tr>\n",
              "      <th>0</th>\n",
              "      <td>1</td>\n",
              "      <td>0</td>\n",
              "      <td>31</td>\n",
              "      <td>0</td>\n",
              "    </tr>\n",
              "    <tr>\n",
              "      <th>1</th>\n",
              "      <td>2</td>\n",
              "      <td>0</td>\n",
              "      <td>28</td>\n",
              "      <td>1</td>\n",
              "    </tr>\n",
              "    <tr>\n",
              "      <th>2</th>\n",
              "      <td>3</td>\n",
              "      <td>0</td>\n",
              "      <td>31</td>\n",
              "      <td>2</td>\n",
              "    </tr>\n",
              "    <tr>\n",
              "      <th>3</th>\n",
              "      <td>4</td>\n",
              "      <td>0</td>\n",
              "      <td>30</td>\n",
              "      <td>3</td>\n",
              "    </tr>\n",
              "    <tr>\n",
              "      <th>4</th>\n",
              "      <td>5</td>\n",
              "      <td>0</td>\n",
              "      <td>31</td>\n",
              "      <td>4</td>\n",
              "    </tr>\n",
              "  </tbody>\n",
              "</table>\n",
              "</div>"
            ],
            "text/plain": [
              "   month  year  days_of_month  date_block_num\n",
              "0      1     0             31               0\n",
              "1      2     0             28               1\n",
              "2      3     0             31               2\n",
              "3      4     0             30               3\n",
              "4      5     0             31               4"
            ]
          },
          "metadata": {
            "tags": []
          },
          "execution_count": 150
        }
      ]
    },
    {
      "cell_type": "code",
      "metadata": {
        "id": "u8MMBST38Dvt"
      },
      "source": [
        "test['date_block_num'] = 34\n",
        "all_data = pd.concat([train, test], axis = 0)\n",
        "all_data = all_data.drop(columns = ['ID'])"
      ],
      "execution_count": null,
      "outputs": []
    },
    {
      "cell_type": "code",
      "metadata": {
        "colab": {
          "base_uri": "https://localhost:8080/",
          "height": 206
        },
        "id": "0eDsymOL7Xp5",
        "outputId": "9b4e1b20-f384-46ac-9f4a-6507e77512d7"
      },
      "source": [
        "all_data = all_data.merge(date_features, on = 'date_block_num', how = 'left')\n",
        "all_data.head()"
      ],
      "execution_count": null,
      "outputs": [
        {
          "output_type": "execute_result",
          "data": {
            "text/html": [
              "<div>\n",
              "<style scoped>\n",
              "    .dataframe tbody tr th:only-of-type {\n",
              "        vertical-align: middle;\n",
              "    }\n",
              "\n",
              "    .dataframe tbody tr th {\n",
              "        vertical-align: top;\n",
              "    }\n",
              "\n",
              "    .dataframe thead th {\n",
              "        text-align: right;\n",
              "    }\n",
              "</style>\n",
              "<table border=\"1\" class=\"dataframe\">\n",
              "  <thead>\n",
              "    <tr style=\"text-align: right;\">\n",
              "      <th></th>\n",
              "      <th>date</th>\n",
              "      <th>date_block_num</th>\n",
              "      <th>shop_id</th>\n",
              "      <th>item_id</th>\n",
              "      <th>item_price</th>\n",
              "      <th>item_cnt_day</th>\n",
              "      <th>month</th>\n",
              "      <th>year</th>\n",
              "      <th>days_of_month</th>\n",
              "    </tr>\n",
              "  </thead>\n",
              "  <tbody>\n",
              "    <tr>\n",
              "      <th>0</th>\n",
              "      <td>2013-01-02</td>\n",
              "      <td>0</td>\n",
              "      <td>59</td>\n",
              "      <td>22154</td>\n",
              "      <td>999.00</td>\n",
              "      <td>1.0</td>\n",
              "      <td>1</td>\n",
              "      <td>0</td>\n",
              "      <td>31</td>\n",
              "    </tr>\n",
              "    <tr>\n",
              "      <th>1</th>\n",
              "      <td>2013-01-03</td>\n",
              "      <td>0</td>\n",
              "      <td>25</td>\n",
              "      <td>2552</td>\n",
              "      <td>899.00</td>\n",
              "      <td>1.0</td>\n",
              "      <td>1</td>\n",
              "      <td>0</td>\n",
              "      <td>31</td>\n",
              "    </tr>\n",
              "    <tr>\n",
              "      <th>2</th>\n",
              "      <td>2013-01-05</td>\n",
              "      <td>0</td>\n",
              "      <td>25</td>\n",
              "      <td>2552</td>\n",
              "      <td>899.00</td>\n",
              "      <td>-1.0</td>\n",
              "      <td>1</td>\n",
              "      <td>0</td>\n",
              "      <td>31</td>\n",
              "    </tr>\n",
              "    <tr>\n",
              "      <th>3</th>\n",
              "      <td>2013-01-06</td>\n",
              "      <td>0</td>\n",
              "      <td>25</td>\n",
              "      <td>2554</td>\n",
              "      <td>1709.05</td>\n",
              "      <td>1.0</td>\n",
              "      <td>1</td>\n",
              "      <td>0</td>\n",
              "      <td>31</td>\n",
              "    </tr>\n",
              "    <tr>\n",
              "      <th>4</th>\n",
              "      <td>2013-01-15</td>\n",
              "      <td>0</td>\n",
              "      <td>25</td>\n",
              "      <td>2555</td>\n",
              "      <td>1099.00</td>\n",
              "      <td>1.0</td>\n",
              "      <td>1</td>\n",
              "      <td>0</td>\n",
              "      <td>31</td>\n",
              "    </tr>\n",
              "  </tbody>\n",
              "</table>\n",
              "</div>"
            ],
            "text/plain": [
              "        date  date_block_num  shop_id  ...  month  year  days_of_month\n",
              "0 2013-01-02               0       59  ...      1     0             31\n",
              "1 2013-01-03               0       25  ...      1     0             31\n",
              "2 2013-01-05               0       25  ...      1     0             31\n",
              "3 2013-01-06               0       25  ...      1     0             31\n",
              "4 2013-01-15               0       25  ...      1     0             31\n",
              "\n",
              "[5 rows x 9 columns]"
            ]
          },
          "metadata": {
            "tags": []
          },
          "execution_count": 152
        }
      ]
    },
    {
      "cell_type": "code",
      "metadata": {
        "colab": {
          "base_uri": "https://localhost:8080/"
        },
        "id": "mjVOttln7X3p",
        "outputId": "2a244fd4-7c30-49b5-8164-4c62fa1b2e9a"
      },
      "source": [
        "index_cols = ['shop_id', 'item_id', 'date_block_num']\n",
        "date_columns = date_features.columns.difference(set(index_cols))\n",
        "date_columns"
      ],
      "execution_count": null,
      "outputs": [
        {
          "output_type": "execute_result",
          "data": {
            "text/plain": [
              "Index(['days_of_month', 'month', 'year'], dtype='object')"
            ]
          },
          "metadata": {
            "tags": []
          },
          "execution_count": 153
        }
      ]
    },
    {
      "cell_type": "code",
      "metadata": {
        "id": "dN3dAFk91vou"
      },
      "source": [
        "index_cols = ['shop_id', 'item_id', 'date_block_num']\n",
        "\n",
        "# For every month we create a grid from all shops/items combinations from that month\n",
        "grid = [] \n",
        "for block_num in train['date_block_num'].unique():\n",
        "    cur_shops = train.loc[train['date_block_num'] == block_num, 'shop_id'].unique()\n",
        "    cur_items = train.loc[train['date_block_num'] == block_num, 'item_id'].unique()\n",
        "    grid.append(np.array(list(product(*[cur_shops, cur_items, [block_num]])),dtype='int32'))\n",
        "\n",
        "# Turn the grid into a dataframe\n",
        "grid = pd.DataFrame(np.vstack(grid), columns = index_cols,dtype=np.int32)\n",
        "\n",
        "# Groupby data to get shop-item-month aggregates\n",
        "gb = train.groupby(index_cols).item_cnt_day.agg(['sum']).rename(columns={'sum': 'target'}).reset_index()\n",
        "\n",
        "# Join it to the grid\n",
        "all_data = pd.merge(grid, gb, how='left', on=index_cols).fillna(0)\n",
        "\n",
        "all_data = downcast_dtypes(all_data)\n",
        "del grid, gb \n",
        "gc.collect();"
      ],
      "execution_count": null,
      "outputs": []
    }
  ]
}